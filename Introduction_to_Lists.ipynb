{
  "nbformat": 4,
  "nbformat_minor": 0,
  "metadata": {
    "kernelspec": {
      "display_name": "Python 3",
      "language": "python",
      "name": "python3"
    },
    "language_info": {
      "codemirror_mode": {
        "name": "ipython",
        "version": 3
      },
      "file_extension": ".py",
      "mimetype": "text/x-python",
      "name": "python",
      "nbconvert_exporter": "python",
      "pygments_lexer": "ipython3",
      "version": "3.7.4"
    },
    "colab": {
      "provenance": [],
      "collapsed_sections": [
        "6Qd7qKM1uH3Y",
        "p7d98KoOuH3f",
        "et3AsvCkuH3n",
        "1sitoBoVuH3u",
        "V31491BvuH3z",
        "BgmqyEUHuH4M",
        "tGmbu4MKuH43",
        "rshOIKENuH5F",
        "YBAQ1FyQuH5f",
        "Wheg57npuH5t",
        "avyykdGjuH52",
        "f4JqHtEouH57",
        "-PKIGd9xuH6a"
      ]
    }
  },
  "cells": [
    {
      "cell_type": "code",
      "source": [
        "my_list = [1,2,3,4]"
      ],
      "metadata": {
        "id": "hLD_qWh-2oGH"
      },
      "execution_count": null,
      "outputs": []
    },
    {
      "cell_type": "code",
      "metadata": {
        "id": "Iwcih5WkuH1F",
        "colab": {
          "base_uri": "https://localhost:8080/"
        },
        "outputId": "2c2b98d5-0f13-4d3a-d824-b3a81efbe7ce"
      },
      "source": [
        "type(my_list)"
      ],
      "execution_count": null,
      "outputs": [
        {
          "output_type": "execute_result",
          "data": {
            "text/plain": [
              "list"
            ]
          },
          "metadata": {},
          "execution_count": 14
        }
      ]
    },
    {
      "cell_type": "code",
      "metadata": {
        "id": "zJALgXvTuH06"
      },
      "source": [
        "# Assign a list to an variable named my_list\n",
        "my_list = [1,2,3,4]"
      ],
      "execution_count": null,
      "outputs": []
    },
    {
      "cell_type": "code",
      "source": [],
      "metadata": {
        "id": "EoMzdT4f2mFI"
      },
      "execution_count": null,
      "outputs": []
    },
    {
      "cell_type": "markdown",
      "metadata": {
        "id": "t1KX9ExluH05"
      },
      "source": [
        "### Earlier when discussing strings we introduced the concept of a <u>sequence</u> in Python. \n",
        "* <u>Lists</u> can be thought of the most general version of a *sequence* in Python. \n",
        "\n",
        "\n",
        "* Unlike strings, they are mutable, meaning the elements inside a list can be changed! \n",
        "\n",
        "\n",
        "* Lists are constructed with brackets <code>[]</code> and commas separating every element in the list."
      ]
    },
    {
      "cell_type": "code",
      "metadata": {
        "id": "5iyxPTQEuH1A",
        "colab": {
          "base_uri": "https://localhost:8080/"
        },
        "outputId": "3d72fbed-f257-4d9e-c208-7073bc414981"
      },
      "source": [
        "print(my_list)"
      ],
      "execution_count": null,
      "outputs": [
        {
          "output_type": "stream",
          "name": "stdout",
          "text": [
            "[1, 2, 3, 4]\n"
          ]
        }
      ]
    },
    {
      "cell_type": "markdown",
      "metadata": {
        "id": "GixOgR0xuH1K"
      },
      "source": [
        "* We just created a list of integers, but lists can actually hold different object types. For example:"
      ]
    },
    {
      "cell_type": "code",
      "metadata": {
        "id": "iYwuNSr5uH1L"
      },
      "source": [
        "my_list = [\"A string\",23,100.232,'o',True]"
      ],
      "execution_count": null,
      "outputs": []
    },
    {
      "cell_type": "code",
      "metadata": {
        "id": "5v0MmUyBuH1R",
        "colab": {
          "base_uri": "https://localhost:8080/"
        },
        "outputId": "18b66335-2a64-4155-9c93-196d2b5bc0d7"
      },
      "source": [
        "my_list"
      ],
      "execution_count": null,
      "outputs": [
        {
          "output_type": "execute_result",
          "data": {
            "text/plain": [
              "['A string', 23, 100.232, 'o', True]"
            ]
          },
          "metadata": {},
          "execution_count": 4
        }
      ]
    },
    {
      "cell_type": "code",
      "source": [
        "student = [\"Ravi\", \"M\", 31, \"Bengalore\", True]\n",
        "\n",
        "# Ravi = 0\n",
        "# M = 1\n",
        "# 31 = 2\n",
        "# Bangalore = 3\n",
        "# True = 4"
      ],
      "metadata": {
        "id": "KEtxisIXcHPE"
      },
      "execution_count": null,
      "outputs": []
    },
    {
      "cell_type": "code",
      "source": [
        "student[-1]"
      ],
      "metadata": {
        "colab": {
          "base_uri": "https://localhost:8080/"
        },
        "id": "Ja-dd2arLmtU",
        "outputId": "0adc2f8d-fe9d-4b63-d04e-7465c1e9d36e"
      },
      "execution_count": null,
      "outputs": [
        {
          "output_type": "execute_result",
          "data": {
            "text/plain": [
              "True"
            ]
          },
          "metadata": {},
          "execution_count": 2
        }
      ]
    },
    {
      "cell_type": "code",
      "source": [
        "print(student)"
      ],
      "metadata": {
        "colab": {
          "base_uri": "https://localhost:8080/"
        },
        "id": "Hy3OHUsncVVm",
        "outputId": "593e7229-c6d0-4275-84f9-907a0e343371"
      },
      "execution_count": null,
      "outputs": [
        {
          "output_type": "stream",
          "name": "stdout",
          "text": [
            "['Ravi', 'M', 31, 'Bengalore', True]\n"
          ]
        }
      ]
    },
    {
      "cell_type": "markdown",
      "metadata": {
        "id": "KC7536WDuH1W"
      },
      "source": [
        "* Just like strings, the <code>len()</code> function will tell you how many items are in the sequence of the list."
      ]
    },
    {
      "cell_type": "code",
      "metadata": {
        "id": "9c8rQF1ZuH1X",
        "colab": {
          "base_uri": "https://localhost:8080/"
        },
        "outputId": "1374692c-1143-453d-e0d2-3c707a0e69d8"
      },
      "source": [
        "len(my_list)"
      ],
      "execution_count": null,
      "outputs": [
        {
          "output_type": "execute_result",
          "data": {
            "text/plain": [
              "5"
            ]
          },
          "metadata": {},
          "execution_count": 7
        }
      ]
    },
    {
      "cell_type": "markdown",
      "metadata": {
        "id": "GOoGqqK9uH1c"
      },
      "source": [
        "## List Indexing\n",
        "* Indexing work just like in strings.\n",
        "\n",
        "\n",
        "* A list index refers to the location of an element in a list.\n",
        "\n",
        "\n",
        "* Remember the indexing begins from 0 in Python. \n",
        "\n",
        "\n",
        "* The first element is assigned an index 0, the second element is assigned an index of 1 and so on and so forth."
      ]
    },
    {
      "cell_type": "code",
      "metadata": {
        "id": "h8kC051iuH1e",
        "colab": {
          "base_uri": "https://localhost:8080/"
        },
        "outputId": "3e14248b-478b-446e-f238-b27aa411253f"
      },
      "source": [
        "# Consider a list of strings\n",
        "loss_functions = ['Mean Absolute Error','Mean Squared Error','Huber Loss','Log Loss','Hinge Loss']\n",
        "print(loss_functions)"
      ],
      "execution_count": null,
      "outputs": [
        {
          "output_type": "stream",
          "name": "stdout",
          "text": [
            "['Mean Absolute Error', 'Mean Squared Error', 'Huber Loss', 'Log Loss', 'Hinge Loss']\n"
          ]
        }
      ]
    },
    {
      "cell_type": "code",
      "metadata": {
        "id": "9Rjv4sHZuH1k",
        "colab": {
          "base_uri": "https://localhost:8080/"
        },
        "outputId": "e29b7c41-4bce-4aaa-88bc-177bb6f6763c"
      },
      "source": [
        "# Grab the element at index 0, which is the FIRST element\n",
        "print(loss_functions[2])"
      ],
      "execution_count": null,
      "outputs": [
        {
          "output_type": "stream",
          "name": "stdout",
          "text": [
            "Huber Loss\n"
          ]
        }
      ]
    },
    {
      "cell_type": "code",
      "metadata": {
        "colab": {
          "base_uri": "https://localhost:8080/"
        },
        "id": "wkqGy2G-HcFP",
        "outputId": "3104ad11-246f-4646-ce2b-8371464a9d17"
      },
      "source": [
        "len(loss_functions)"
      ],
      "execution_count": null,
      "outputs": [
        {
          "output_type": "execute_result",
          "data": {
            "text/plain": [
              "5"
            ]
          },
          "metadata": {},
          "execution_count": 3
        }
      ]
    },
    {
      "cell_type": "code",
      "metadata": {
        "id": "wy6j6RQluH1q",
        "colab": {
          "base_uri": "https://localhost:8080/"
        },
        "outputId": "391baa10-fd15-4e71-cc5c-988c14702717"
      },
      "source": [
        "# Grab the element at index 3, which is the FOURTH element\n",
        "print(loss_functions[3])"
      ],
      "execution_count": null,
      "outputs": [
        {
          "output_type": "stream",
          "name": "stdout",
          "text": [
            "Log Loss\n"
          ]
        }
      ]
    },
    {
      "cell_type": "code",
      "metadata": {
        "colab": {
          "base_uri": "https://localhost:8080/",
          "height": 165
        },
        "id": "fN0bZ8T5HULs",
        "outputId": "4e720070-d624-43ee-80a9-9e082cff210a"
      },
      "source": [
        "print(loss_functions[5])"
      ],
      "execution_count": null,
      "outputs": [
        {
          "output_type": "error",
          "ename": "IndexError",
          "evalue": "ignored",
          "traceback": [
            "\u001b[0;31m---------------------------------------------------------------------------\u001b[0m",
            "\u001b[0;31mIndexError\u001b[0m                                Traceback (most recent call last)",
            "\u001b[0;32m<ipython-input-5-7cd33ed6084c>\u001b[0m in \u001b[0;36m<module>\u001b[0;34m()\u001b[0m\n\u001b[0;32m----> 1\u001b[0;31m \u001b[0mprint\u001b[0m\u001b[0;34m(\u001b[0m\u001b[0mloss_functions\u001b[0m\u001b[0;34m[\u001b[0m\u001b[0;36m5\u001b[0m\u001b[0;34m]\u001b[0m\u001b[0;34m)\u001b[0m\u001b[0;34m\u001b[0m\u001b[0;34m\u001b[0m\u001b[0m\n\u001b[0m",
            "\u001b[0;31mIndexError\u001b[0m: list index out of range"
          ]
        }
      ]
    },
    {
      "cell_type": "code",
      "metadata": {
        "id": "XWYhPYWJuH1w",
        "colab": {
          "base_uri": "https://localhost:8080/"
        },
        "outputId": "86f0507a-ee6e-47e6-f100-720941c89ea2"
      },
      "source": [
        "# Grab the element at the index -1, which is the LAST element\n",
        "print(loss_functions[-1])"
      ],
      "execution_count": null,
      "outputs": [
        {
          "output_type": "stream",
          "name": "stdout",
          "text": [
            "Hinge Loss\n"
          ]
        }
      ]
    },
    {
      "cell_type": "code",
      "metadata": {
        "id": "qVDZolzXuH11",
        "colab": {
          "base_uri": "https://localhost:8080/"
        },
        "outputId": "a00e3893-9b81-41e0-eb81-e90966796175"
      },
      "source": [
        "\n",
        "# Grab the element at the index -3, which is the THIRD LAST element\n",
        "print(loss_functions[-3])"
      ],
      "execution_count": null,
      "outputs": [
        {
          "output_type": "stream",
          "name": "stdout",
          "text": [
            "Huber Loss\n"
          ]
        }
      ]
    },
    {
      "cell_type": "markdown",
      "metadata": {
        "id": "VyvYPGtYuH16"
      },
      "source": [
        "## List Slicing\n",
        "\n",
        "* We can use a <code>:</code> to perform *slicing* which grabs everything up to a designated point. \n",
        "\n",
        "\n",
        "* The starting index is specified on the left of the <code>:</code> and the ending index is specified on the right of the <code>:</code>. \n",
        "\n",
        "\n",
        "* Remember the element located at the right index is not included."
      ]
    },
    {
      "cell_type": "code",
      "metadata": {
        "id": "rJpgJdnauH16",
        "colab": {
          "base_uri": "https://localhost:8080/"
        },
        "outputId": "ff6c24a1-9c63-4abd-aeda-34865636344c"
      },
      "source": [
        "# Print our list\n",
        "print(loss_functions)"
      ],
      "execution_count": null,
      "outputs": [
        {
          "output_type": "stream",
          "name": "stdout",
          "text": [
            "['Mean Absolute Error', 'Mean Squared Error', 'Huber Loss', 'Log Loss', 'Hinge Loss']\n"
          ]
        }
      ]
    },
    {
      "cell_type": "code",
      "metadata": {
        "id": "qkMHWOjpuH1_",
        "colab": {
          "base_uri": "https://localhost:8080/"
        },
        "outputId": "e86b0e8e-f4da-4337-88c1-55847a4c7a75"
      },
      "source": [
        "# Grab the elements starting from index 1 and everything past it\n",
        "loss_functions[1:4]"
      ],
      "execution_count": null,
      "outputs": [
        {
          "output_type": "execute_result",
          "data": {
            "text/plain": [
              "['Mean Squared Error', 'Huber Loss', 'Log Loss']"
            ]
          },
          "metadata": {},
          "execution_count": 22
        }
      ]
    },
    {
      "cell_type": "markdown",
      "metadata": {
        "id": "tRWJVhSPuH2G"
      },
      "source": [
        "* If you do not specify the ending index, then all elements are extracted which comes after the starting index including the element at that starting index. The operation knows only to stop when it has run through the entire list."
      ]
    },
    {
      "cell_type": "code",
      "metadata": {
        "id": "9-210b6YuH2H",
        "colab": {
          "base_uri": "https://localhost:8080/"
        },
        "outputId": "0f441c8a-f24f-4a52-f43f-0471b569619d"
      },
      "source": [
        "# Grab everything starting from index 2\n",
        "loss_functions[2:]"
      ],
      "execution_count": null,
      "outputs": [
        {
          "output_type": "execute_result",
          "data": {
            "text/plain": [
              "['Huber Loss', 'Log Loss', 'Hinge Loss']"
            ]
          },
          "metadata": {},
          "execution_count": 16
        }
      ]
    },
    {
      "cell_type": "markdown",
      "metadata": {
        "id": "X6H8XIIZuH2M"
      },
      "source": [
        "* If you do not specify the starting index, then all elements are extracted which comes befores the ending index excluding the element at the specified ending index. The operation knows only to stop when it has extracted all elements before the  element at the ending index."
      ]
    },
    {
      "cell_type": "code",
      "metadata": {
        "id": "OzsSfMJwuH2M",
        "colab": {
          "base_uri": "https://localhost:8080/"
        },
        "outputId": "1b548c8b-9b0c-44ac-ba95-4f27fd910a24"
      },
      "source": [
        "# Grab everything before the index 4\n",
        "loss_functions[:4]"
      ],
      "execution_count": null,
      "outputs": [
        {
          "output_type": "execute_result",
          "data": {
            "text/plain": [
              "['Mean Absolute Error', 'Mean Squared Error', 'Huber Loss', 'Log Loss']"
            ]
          },
          "metadata": {},
          "execution_count": 17
        }
      ]
    },
    {
      "cell_type": "markdown",
      "metadata": {
        "id": "AzM1gvHxuH2R"
      },
      "source": [
        "* If you do not specify the starting and the ending index, it will extract all elements of the list."
      ]
    },
    {
      "cell_type": "code",
      "metadata": {
        "id": "UvgZ2Oi7uH2S",
        "colab": {
          "base_uri": "https://localhost:8080/"
        },
        "outputId": "7cc76ff6-528c-43df-a779-fc04591e2699"
      },
      "source": [
        "# Grab everything\n",
        "print(loss_functions[:])\n",
        "print(loss_functions)"
      ],
      "execution_count": null,
      "outputs": [
        {
          "output_type": "stream",
          "name": "stdout",
          "text": [
            "['Mean Absolute Error', 'Mean Squared Error', 'Huber Loss', 'Log Loss', 'Hinge Loss']\n",
            "['Mean Absolute Error', 'Mean Squared Error', 'Huber Loss', 'Log Loss', 'Hinge Loss']\n"
          ]
        }
      ]
    },
    {
      "cell_type": "markdown",
      "metadata": {
        "id": "JZCjIP2wuH2Y"
      },
      "source": [
        "* We can also extract the last four elements. Remember we can use the index -4 to extract the FOURTH LAST element"
      ]
    },
    {
      "cell_type": "code",
      "metadata": {
        "id": "HO6uu_J3uH2Z",
        "colab": {
          "base_uri": "https://localhost:8080/"
        },
        "outputId": "4afcafc8-e910-4bb5-f9e1-634eada7e1ff"
      },
      "source": [
        "# Grab the LAST FOUR elements of the list\n",
        "loss_functions[-4:]"
      ],
      "execution_count": null,
      "outputs": [
        {
          "output_type": "execute_result",
          "data": {
            "text/plain": [
              "['Mean Squared Error', 'Huber Loss', 'Log Loss', 'Hinge Loss']"
            ]
          },
          "metadata": {},
          "execution_count": 19
        }
      ]
    },
    {
      "cell_type": "code",
      "metadata": {
        "id": "HhClfN4JoYHm",
        "colab": {
          "base_uri": "https://localhost:8080/",
          "height": 167
        },
        "outputId": "1776d1c8-15fe-4b0a-aed2-725415678096"
      },
      "source": [
        "loss_functions[-10]"
      ],
      "execution_count": null,
      "outputs": [
        {
          "output_type": "error",
          "ename": "IndexError",
          "evalue": "ignored",
          "traceback": [
            "\u001b[0;31m---------------------------------------------------------------------------\u001b[0m",
            "\u001b[0;31mIndexError\u001b[0m                                Traceback (most recent call last)",
            "\u001b[0;32m<ipython-input-24-8a581720341d>\u001b[0m in \u001b[0;36m<module>\u001b[0;34m()\u001b[0m\n\u001b[0;32m----> 1\u001b[0;31m \u001b[0mloss_functions\u001b[0m\u001b[0;34m[\u001b[0m\u001b[0;34m-\u001b[0m\u001b[0;36m10\u001b[0m\u001b[0;34m]\u001b[0m\u001b[0;34m\u001b[0m\u001b[0;34m\u001b[0m\u001b[0m\n\u001b[0m",
            "\u001b[0;31mIndexError\u001b[0m: list index out of range"
          ]
        }
      ]
    },
    {
      "cell_type": "markdown",
      "metadata": {
        "id": "MFMJCkLtuH2e"
      },
      "source": [
        "* It should also be noted that list indexing will return an error if there is no element at that index."
      ]
    },
    {
      "cell_type": "code",
      "metadata": {
        "id": "ubVmh9dpuH2f",
        "colab": {
          "base_uri": "https://localhost:8080/"
        },
        "outputId": "22f89db5-f5dc-43bd-e6c2-3f91fb116d36"
      },
      "source": [
        "len(loss_functions)"
      ],
      "execution_count": null,
      "outputs": [
        {
          "output_type": "execute_result",
          "data": {
            "text/plain": [
              "5"
            ]
          },
          "metadata": {},
          "execution_count": 21
        }
      ]
    },
    {
      "cell_type": "code",
      "metadata": {
        "id": "BSIWnrXvuH2q",
        "colab": {
          "base_uri": "https://localhost:8080/",
          "height": 167
        },
        "outputId": "69315936-ecf8-4aa5-c0d4-7ce0299b38d4"
      },
      "source": [
        "loss_functions[8]"
      ],
      "execution_count": null,
      "outputs": [
        {
          "output_type": "error",
          "ename": "IndexError",
          "evalue": "ignored",
          "traceback": [
            "\u001b[0;31m---------------------------------------------------------------------------\u001b[0m",
            "\u001b[0;31mIndexError\u001b[0m                                Traceback (most recent call last)",
            "\u001b[0;32m<ipython-input-22-4de3193e7629>\u001b[0m in \u001b[0;36m<module>\u001b[0;34m()\u001b[0m\n\u001b[0;32m----> 1\u001b[0;31m \u001b[0mloss_functions\u001b[0m\u001b[0;34m[\u001b[0m\u001b[0;36m8\u001b[0m\u001b[0;34m]\u001b[0m\u001b[0;34m\u001b[0m\u001b[0;34m\u001b[0m\u001b[0m\n\u001b[0m",
            "\u001b[0;31mIndexError\u001b[0m: list index out of range"
          ]
        }
      ]
    },
    {
      "cell_type": "markdown",
      "source": [
        "This works, but it is not very efficient if we want to work with a large set of numbers. The range() function helps us generate long lists of numbers. Here are two ways to do the same thing, using the range function."
      ],
      "metadata": {
        "id": "y057SU1RC8UX"
      }
    },
    {
      "cell_type": "code",
      "source": [
        "# Print the first ten numbers.\n",
        "for number in range(1,11):\n",
        "    print(number)"
      ],
      "metadata": {
        "colab": {
          "base_uri": "https://localhost:8080/"
        },
        "id": "1mhHs1vgDDNg",
        "outputId": "ee8dfbac-70eb-41f1-e985-a66fa59fc58a"
      },
      "execution_count": null,
      "outputs": [
        {
          "output_type": "stream",
          "name": "stdout",
          "text": [
            "1\n",
            "2\n",
            "3\n",
            "4\n",
            "5\n",
            "6\n",
            "7\n",
            "8\n",
            "9\n",
            "10\n"
          ]
        }
      ]
    },
    {
      "cell_type": "code",
      "source": [
        "# Print the first ten odd numbers.\n",
        "for number in range(0,11,2):\n",
        "    print(number)"
      ],
      "metadata": {
        "colab": {
          "base_uri": "https://localhost:8080/"
        },
        "id": "8QyFNj6LDDB7",
        "outputId": "77a7a2d6-76ac-4a18-e4fa-1728059df153"
      },
      "execution_count": null,
      "outputs": [
        {
          "output_type": "stream",
          "name": "stdout",
          "text": [
            "0\n",
            "2\n",
            "4\n",
            "6\n",
            "8\n",
            "10\n"
          ]
        }
      ]
    },
    {
      "cell_type": "code",
      "source": [
        "# Create a list of the first ten numbers.\n",
        "numbers = list(range(1,11))\n",
        "print(numbers)"
      ],
      "metadata": {
        "colab": {
          "base_uri": "https://localhost:8080/"
        },
        "id": "MG65kWlnDC0B",
        "outputId": "41325cf2-8ad6-411a-c2fe-1e7742694771"
      },
      "execution_count": null,
      "outputs": [
        {
          "output_type": "stream",
          "name": "stdout",
          "text": [
            "[1, 2, 3, 4, 5, 6, 7, 8, 9, 10]\n"
          ]
        }
      ]
    },
    {
      "cell_type": "markdown",
      "metadata": {
        "id": "Sq2OgleGuH23"
      },
      "source": [
        "## List Operations\n",
        "* Remember we said that lists are mutable as opposed to strings. Lets see how can we change the elements of a list"
      ]
    },
    {
      "cell_type": "markdown",
      "metadata": {
        "id": "fDoYdXjFuH24"
      },
      "source": [
        "* We can also use <code>+</code> to concatenate lists, just like we did for strings."
      ]
    },
    {
      "cell_type": "code",
      "metadata": {
        "id": "49GL6IOAqQCe",
        "colab": {
          "base_uri": "https://localhost:8080/"
        },
        "outputId": "1c62e1e8-0f36-45ff-b374-17156b964d3b"
      },
      "source": [
        "print(loss_functions)"
      ],
      "execution_count": null,
      "outputs": [
        {
          "output_type": "stream",
          "name": "stdout",
          "text": [
            "['Mean Absolute Error', 'Mean Squared Error', 'Huber Loss', 'Log Loss', 'Hinge Loss']\n"
          ]
        }
      ]
    },
    {
      "cell_type": "code",
      "metadata": {
        "id": "V0Oc6-O8uH25",
        "colab": {
          "base_uri": "https://localhost:8080/"
        },
        "outputId": "e334ac76-0f83-4202-bb25-ee5954a13db7"
      },
      "source": [
        "loss_functions + ['Kullback-Leibler']"
      ],
      "execution_count": null,
      "outputs": [
        {
          "output_type": "execute_result",
          "data": {
            "text/plain": [
              "['Mean Absolute Error',\n",
              " 'Mean Squared Error',\n",
              " 'Huber Loss',\n",
              " 'Log Loss',\n",
              " 'Hinge Loss',\n",
              " 'Kullback-Leibler']"
            ]
          },
          "metadata": {},
          "execution_count": 30
        }
      ]
    },
    {
      "cell_type": "markdown",
      "metadata": {
        "id": "_R2ARrFsuH2-"
      },
      "source": [
        "* Note: This doesn't actually change the original list!"
      ]
    },
    {
      "cell_type": "code",
      "metadata": {
        "scrolled": true,
        "id": "FiZFhSgMuH3A",
        "colab": {
          "base_uri": "https://localhost:8080/"
        },
        "outputId": "2fd63a25-386a-4bd6-d197-3d6f5741ed87"
      },
      "source": [
        "print(loss_functions)"
      ],
      "execution_count": null,
      "outputs": [
        {
          "output_type": "stream",
          "name": "stdout",
          "text": [
            "['Mean Absolute Error', 'Mean Squared Error', 'Huber Loss', 'Log Loss', 'Hinge Loss']\n"
          ]
        }
      ]
    },
    {
      "cell_type": "markdown",
      "metadata": {
        "id": "9BC_N9XIuH3E"
      },
      "source": [
        "* You would have to reassign the list to make the change permanent."
      ]
    },
    {
      "cell_type": "code",
      "metadata": {
        "id": "rrAKgXGkuH3E"
      },
      "source": [
        "# Reassign\n",
        "loss_functions = loss_functions + ['Kullback-Leibler']"
      ],
      "execution_count": null,
      "outputs": []
    },
    {
      "cell_type": "code",
      "metadata": {
        "id": "kB1NeeiXuH3I",
        "colab": {
          "base_uri": "https://localhost:8080/"
        },
        "outputId": "113e265f-6a42-432e-8e1d-cb5e5949b347"
      },
      "source": [
        "loss_functions"
      ],
      "execution_count": null,
      "outputs": [
        {
          "output_type": "execute_result",
          "data": {
            "text/plain": [
              "['Mean Absolute Error',\n",
              " 'Mean Squared Error',\n",
              " 'Huber Loss',\n",
              " 'Log Loss',\n",
              " 'Hinge Loss',\n",
              " 'Kullback-Leibler']"
            ]
          },
          "metadata": {},
          "execution_count": 34
        }
      ]
    },
    {
      "cell_type": "markdown",
      "metadata": {
        "id": "kk3-UJ3RuH3N"
      },
      "source": [
        "* We can also use the <code>*</code> for a duplication method similar to strings:"
      ]
    },
    {
      "cell_type": "code",
      "metadata": {
        "id": "b09L4hO7uH3O",
        "colab": {
          "base_uri": "https://localhost:8080/"
        },
        "outputId": "4c7d7843-d062-42be-a139-6ccd04315f8f"
      },
      "source": [
        "# Make the list double\n",
        "len(loss_functions * 6)"
      ],
      "execution_count": null,
      "outputs": [
        {
          "output_type": "execute_result",
          "data": {
            "text/plain": [
              "36"
            ]
          },
          "metadata": {},
          "execution_count": 35
        }
      ]
    },
    {
      "cell_type": "code",
      "source": [
        "loss_functions = loss_functions * 6\n",
        "print(loss_functions)"
      ],
      "metadata": {
        "colab": {
          "base_uri": "https://localhost:8080/"
        },
        "id": "C3cGQLNRhoMo",
        "outputId": "8e973aeb-9ad8-45c1-88ad-aa405ba1898f"
      },
      "execution_count": null,
      "outputs": [
        {
          "output_type": "stream",
          "name": "stdout",
          "text": [
            "['Mean Absolute Error', 'Mean Squared Error', 'Huber Loss', 'Log Loss', 'Hinge Loss', 'Kullback-Leibler', 'Mean Absolute Error', 'Mean Squared Error', 'Huber Loss', 'Log Loss', 'Hinge Loss', 'Kullback-Leibler', 'Mean Absolute Error', 'Mean Squared Error', 'Huber Loss', 'Log Loss', 'Hinge Loss', 'Kullback-Leibler', 'Mean Absolute Error', 'Mean Squared Error', 'Huber Loss', 'Log Loss', 'Hinge Loss', 'Kullback-Leibler', 'Mean Absolute Error', 'Mean Squared Error', 'Huber Loss', 'Log Loss', 'Hinge Loss', 'Kullback-Leibler', 'Mean Absolute Error', 'Mean Squared Error', 'Huber Loss', 'Log Loss', 'Hinge Loss', 'Kullback-Leibler', 'Mean Absolute Error', 'Mean Squared Error', 'Huber Loss', 'Log Loss', 'Hinge Loss', 'Kullback-Leibler', 'Mean Absolute Error', 'Mean Squared Error', 'Huber Loss', 'Log Loss', 'Hinge Loss', 'Kullback-Leibler', 'Mean Absolute Error', 'Mean Squared Error', 'Huber Loss', 'Log Loss', 'Hinge Loss', 'Kullback-Leibler', 'Mean Absolute Error', 'Mean Squared Error', 'Huber Loss', 'Log Loss', 'Hinge Loss', 'Kullback-Leibler', 'Mean Absolute Error', 'Mean Squared Error', 'Huber Loss', 'Log Loss', 'Hinge Loss', 'Kullback-Leibler', 'Mean Absolute Error', 'Mean Squared Error', 'Huber Loss', 'Log Loss', 'Hinge Loss', 'Kullback-Leibler', 'Mean Absolute Error', 'Mean Squared Error', 'Huber Loss', 'Log Loss', 'Hinge Loss', 'Kullback-Leibler', 'Mean Absolute Error', 'Mean Squared Error', 'Huber Loss', 'Log Loss', 'Hinge Loss', 'Kullback-Leibler', 'Mean Absolute Error', 'Mean Squared Error', 'Huber Loss', 'Log Loss', 'Hinge Loss', 'Kullback-Leibler', 'Mean Absolute Error', 'Mean Squared Error', 'Huber Loss', 'Log Loss', 'Hinge Loss', 'Kullback-Leibler', 'Mean Absolute Error', 'Mean Squared Error', 'Huber Loss', 'Log Loss', 'Hinge Loss', 'Kullback-Leibler', 'Mean Absolute Error', 'Mean Squared Error', 'Huber Loss', 'Log Loss', 'Hinge Loss', 'Kullback-Leibler', 'Mean Absolute Error', 'Mean Squared Error', 'Huber Loss', 'Log Loss', 'Hinge Loss', 'Kullback-Leibler', 'Mean Absolute Error', 'Mean Squared Error', 'Huber Loss', 'Log Loss', 'Hinge Loss', 'Kullback-Leibler', 'Mean Absolute Error', 'Mean Squared Error', 'Huber Loss', 'Log Loss', 'Hinge Loss', 'Kullback-Leibler', 'Mean Absolute Error', 'Mean Squared Error', 'Huber Loss', 'Log Loss', 'Hinge Loss', 'Kullback-Leibler', 'Mean Absolute Error', 'Mean Squared Error', 'Huber Loss', 'Log Loss', 'Hinge Loss', 'Kullback-Leibler', 'Mean Absolute Error', 'Mean Squared Error', 'Huber Loss', 'Log Loss', 'Hinge Loss', 'Kullback-Leibler', 'Mean Absolute Error', 'Mean Squared Error', 'Huber Loss', 'Log Loss', 'Hinge Loss', 'Kullback-Leibler', 'Mean Absolute Error', 'Mean Squared Error', 'Huber Loss', 'Log Loss', 'Hinge Loss', 'Kullback-Leibler', 'Mean Absolute Error', 'Mean Squared Error', 'Huber Loss', 'Log Loss', 'Hinge Loss', 'Kullback-Leibler', 'Mean Absolute Error', 'Mean Squared Error', 'Huber Loss', 'Log Loss', 'Hinge Loss', 'Kullback-Leibler', 'Mean Absolute Error', 'Mean Squared Error', 'Huber Loss', 'Log Loss', 'Hinge Loss', 'Kullback-Leibler', 'Mean Absolute Error', 'Mean Squared Error', 'Huber Loss', 'Log Loss', 'Hinge Loss', 'Kullback-Leibler', 'Mean Absolute Error', 'Mean Squared Error', 'Huber Loss', 'Log Loss', 'Hinge Loss', 'Kullback-Leibler', 'Mean Absolute Error', 'Mean Squared Error', 'Huber Loss', 'Log Loss', 'Hinge Loss', 'Kullback-Leibler', 'Mean Absolute Error', 'Mean Squared Error', 'Huber Loss', 'Log Loss', 'Hinge Loss', 'Kullback-Leibler', 'Mean Absolute Error', 'Mean Squared Error', 'Huber Loss', 'Log Loss', 'Hinge Loss', 'Kullback-Leibler', 'Mean Absolute Error', 'Mean Squared Error', 'Huber Loss', 'Log Loss', 'Hinge Loss', 'Kullback-Leibler', 'Mean Absolute Error', 'Mean Squared Error', 'Huber Loss', 'Log Loss', 'Hinge Loss', 'Kullback-Leibler']\n"
          ]
        }
      ]
    },
    {
      "cell_type": "code",
      "source": [
        "#Testing whether an item is in a list\n",
        "dogs = ['border collie', 'australian cattle dog', 'labrador retriever']\n",
        "\n",
        "print('australian cattle dog' in dogs)\n",
        "print('poodle' in dogs)"
      ],
      "metadata": {
        "colab": {
          "base_uri": "https://localhost:8080/"
        },
        "id": "d_5tETjMAFLj",
        "outputId": "86f8b5d5-b480-4a72-c23f-024eb56cfb57"
      },
      "execution_count": null,
      "outputs": [
        {
          "output_type": "stream",
          "name": "stdout",
          "text": [
            "True\n",
            "False\n"
          ]
        }
      ]
    },
    {
      "cell_type": "markdown",
      "metadata": {
        "id": "vPF4zcaEuH3X"
      },
      "source": [
        "## List Functions"
      ]
    },
    {
      "cell_type": "markdown",
      "metadata": {
        "id": "6Qd7qKM1uH3Y"
      },
      "source": [
        "### <code>len()</code>\n",
        "\n",
        "\n",
        "* <code>len()</code> function returns the length of the list"
      ]
    },
    {
      "cell_type": "code",
      "metadata": {
        "id": "EOLMTcMvuH3Z",
        "colab": {
          "base_uri": "https://localhost:8080/"
        },
        "outputId": "f372b7ed-84fa-4fea-e749-aa0fbd4a956b"
      },
      "source": [
        "loss_functions = ['Mean Absolute Error',\n",
        " 'Mean Squared Error',\n",
        " 'Huber Loss',\n",
        " 'Log Loss',\n",
        " 'Hinge Loss',\n",
        " 'Kullback-Leibler']\n",
        " \n",
        "print(loss_functions)\n",
        "loss_functions."
      ],
      "execution_count": null,
      "outputs": [
        {
          "output_type": "stream",
          "name": "stdout",
          "text": [
            "['Mean Absolute Error', 'Mean Squared Error', 'Huber Loss', 'Log Loss', 'Hinge Loss', 'Kullback-Leibler']\n"
          ]
        }
      ]
    },
    {
      "cell_type": "code",
      "metadata": {
        "id": "mNKWrF1wuH3c",
        "colab": {
          "base_uri": "https://localhost:8080/"
        },
        "outputId": "a89298c5-6c76-409e-c3d2-41911dcf72d3"
      },
      "source": [
        "len(loss_functions)"
      ],
      "execution_count": null,
      "outputs": [
        {
          "output_type": "execute_result",
          "data": {
            "text/plain": [
              "6"
            ]
          },
          "metadata": {},
          "execution_count": 43
        }
      ]
    },
    {
      "cell_type": "markdown",
      "metadata": {
        "id": "p7d98KoOuH3f"
      },
      "source": [
        "### <code>min()</code>\n",
        "\n",
        "\n",
        "* <code>min()</code> function returns the minimum element of the list\n",
        "\n",
        "\n",
        "* <code>min()</code> function only works with lists of similar data types"
      ]
    },
    {
      "cell_type": "code",
      "metadata": {
        "id": "wLccOV7wuH3f"
      },
      "source": [
        "new_list = [6, 9, 1, 3, 5.5]"
      ],
      "execution_count": null,
      "outputs": []
    },
    {
      "cell_type": "code",
      "metadata": {
        "id": "Y2Cu7bw0uH3j",
        "colab": {
          "base_uri": "https://localhost:8080/"
        },
        "outputId": "1e508292-0be5-4543-ffa3-aceb24a53492"
      },
      "source": [
        "\n",
        "min(new_list)"
      ],
      "execution_count": null,
      "outputs": [
        {
          "output_type": "execute_result",
          "data": {
            "text/plain": [
              "1"
            ]
          },
          "metadata": {},
          "execution_count": 7
        }
      ]
    },
    {
      "cell_type": "code",
      "metadata": {
        "id": "CE51jhX2Os8i"
      },
      "source": [
        "my_new_list = ['a','b', 'z' ,'y' , 'm']"
      ],
      "execution_count": null,
      "outputs": []
    },
    {
      "cell_type": "code",
      "metadata": {
        "colab": {
          "base_uri": "https://localhost:8080/",
          "height": 36
        },
        "id": "xU0MNka-OzHv",
        "outputId": "91af54ee-64f3-4dee-e50e-39e99b9d3125"
      },
      "source": [
        "min(my_new_list)"
      ],
      "execution_count": null,
      "outputs": [
        {
          "output_type": "execute_result",
          "data": {
            "text/plain": [
              "'a'"
            ],
            "application/vnd.google.colaboratory.intrinsic+json": {
              "type": "string"
            }
          },
          "metadata": {},
          "execution_count": 9
        }
      ]
    },
    {
      "cell_type": "markdown",
      "metadata": {
        "id": "et3AsvCkuH3n"
      },
      "source": [
        "### <code>max()</code>\n",
        "\n",
        "\n",
        "* <code>max()</code> function returns the maximum element of the list\n",
        "\n",
        "\n",
        "* <code>max()</code> function only works with lists of similar data types"
      ]
    },
    {
      "cell_type": "code",
      "metadata": {
        "id": "ehW2DQUouH3o"
      },
      "source": [
        "new_list = ['Argue','Burglar','Parent','Linear','shape']"
      ],
      "execution_count": null,
      "outputs": []
    },
    {
      "cell_type": "code",
      "metadata": {
        "id": "oexyHaR1uH3r",
        "colab": {
          "base_uri": "https://localhost:8080/",
          "height": 36
        },
        "outputId": "219591ee-6ee2-42d9-b39a-0c3d536ead07"
      },
      "source": [
        "max(new_list)"
      ],
      "execution_count": null,
      "outputs": [
        {
          "output_type": "execute_result",
          "data": {
            "text/plain": [
              "'shape'"
            ],
            "application/vnd.google.colaboratory.intrinsic+json": {
              "type": "string"
            }
          },
          "metadata": {},
          "execution_count": 11
        }
      ]
    },
    {
      "cell_type": "markdown",
      "metadata": {
        "id": "1sitoBoVuH3u"
      },
      "source": [
        "### <code>sum()</code>\n",
        "\n",
        "\n",
        "* <code>sum()</code> function returns the sum of the elements of the list\n",
        "\n",
        "\n",
        "* <code>sum()</code> function only works with lists of numeric data types"
      ]
    },
    {
      "cell_type": "code",
      "metadata": {
        "id": "cXT_0utXuH3u"
      },
      "source": [
        "new_list = [6, 9, 1, 3, 5.5]"
      ],
      "execution_count": null,
      "outputs": []
    },
    {
      "cell_type": "code",
      "metadata": {
        "id": "tV5c5mkGuH3x",
        "colab": {
          "base_uri": "https://localhost:8080/"
        },
        "outputId": "ea70f8e2-dc6c-421c-b94d-60f500c08d81"
      },
      "source": [
        "sum(new_list)"
      ],
      "execution_count": null,
      "outputs": [
        {
          "output_type": "execute_result",
          "data": {
            "text/plain": [
              "24.5"
            ]
          },
          "metadata": {},
          "execution_count": 55
        }
      ]
    },
    {
      "cell_type": "markdown",
      "metadata": {
        "id": "V31491BvuH3z"
      },
      "source": [
        "### <code>sorted()</code>\n",
        "\n",
        "\n",
        "* <code>sorted()</code> function returns the sorted list \n",
        "\n",
        "\n",
        "* <code>sorted()</code> function takes reverse boolean as an argument\n",
        "\n",
        "\n",
        "* <code>sorted()</code> function only works on a list with similar data types"
      ]
    },
    {
      "cell_type": "code",
      "metadata": {
        "id": "yXeGjCRCuH30",
        "colab": {
          "base_uri": "https://localhost:8080/"
        },
        "outputId": "11acf0e0-182d-4b41-ac8f-a592f4280293"
      },
      "source": [
        "new_list"
      ],
      "execution_count": null,
      "outputs": [
        {
          "output_type": "execute_result",
          "data": {
            "text/plain": [
              "[6, 9, 1, 3, 5.5]"
            ]
          },
          "metadata": {},
          "execution_count": 56
        }
      ]
    },
    {
      "cell_type": "code",
      "metadata": {
        "id": "RoS_1mnyuH34",
        "colab": {
          "base_uri": "https://localhost:8080/"
        },
        "outputId": "50d1df6d-f6e1-47a1-e89a-0cf347cdb07a"
      },
      "source": [
        "sorted(new_list)"
      ],
      "execution_count": null,
      "outputs": [
        {
          "output_type": "execute_result",
          "data": {
            "text/plain": [
              "[1, 3, 5.5, 6, 9]"
            ]
          },
          "metadata": {},
          "execution_count": 57
        }
      ]
    },
    {
      "cell_type": "code",
      "metadata": {
        "colab": {
          "base_uri": "https://localhost:8080/"
        },
        "id": "0gQjBslbRFLH",
        "outputId": "7f8824f8-4508-44a9-a0f2-a06beb31810f"
      },
      "source": [
        "print(new_list)"
      ],
      "execution_count": null,
      "outputs": [
        {
          "output_type": "stream",
          "name": "stdout",
          "text": [
            "[6, 9, 1, 3, 5.5]\n"
          ]
        }
      ]
    },
    {
      "cell_type": "code",
      "metadata": {
        "id": "4t5yFdfLuJZi"
      },
      "source": [
        "new_list = ['Argue','Burglar','Parent','Linear','shape']"
      ],
      "execution_count": null,
      "outputs": []
    },
    {
      "cell_type": "code",
      "metadata": {
        "id": "PSPWx6EDuKw_",
        "colab": {
          "base_uri": "https://localhost:8080/"
        },
        "outputId": "48b5ea41-c8d0-46fd-8a4a-52302f91772f"
      },
      "source": [
        "sorted(new_list)"
      ],
      "execution_count": null,
      "outputs": [
        {
          "output_type": "execute_result",
          "data": {
            "text/plain": [
              "['Argue', 'Burglar', 'Linear', 'Parent', 'shape']"
            ]
          },
          "metadata": {},
          "execution_count": 60
        }
      ]
    },
    {
      "cell_type": "code",
      "metadata": {
        "id": "YAybCJVUtElx",
        "colab": {
          "base_uri": "https://localhost:8080/"
        },
        "outputId": "0d4912de-285a-49e7-9927-222794ee711b"
      },
      "source": [
        "print(new_list)"
      ],
      "execution_count": null,
      "outputs": [
        {
          "output_type": "stream",
          "name": "stdout",
          "text": [
            "['Argue', 'Burglar', 'Parent', 'Linear', 'shape']\n"
          ]
        }
      ]
    },
    {
      "cell_type": "code",
      "metadata": {
        "id": "qh3oquvquH38",
        "colab": {
          "base_uri": "https://localhost:8080/"
        },
        "outputId": "a1668ace-670f-4b06-f35a-24266dcdee53"
      },
      "source": [
        "sorted(new_list,reverse=True)"
      ],
      "execution_count": null,
      "outputs": [
        {
          "output_type": "execute_result",
          "data": {
            "text/plain": [
              "['shape', 'Parent', 'Linear', 'Burglar', 'Argue']"
            ]
          },
          "metadata": {},
          "execution_count": 62
        }
      ]
    },
    {
      "cell_type": "code",
      "metadata": {
        "colab": {
          "base_uri": "https://localhost:8080/"
        },
        "id": "e-eFh2jKRvJv",
        "outputId": "4a5d950e-dd60-40a7-a133-c1ac465c67e3"
      },
      "source": [
        "sorted(new_list)"
      ],
      "execution_count": null,
      "outputs": [
        {
          "output_type": "execute_result",
          "data": {
            "text/plain": [
              "['Argue', 'Burglar', 'Linear', 'Parent', 'shape']"
            ]
          },
          "metadata": {},
          "execution_count": 63
        }
      ]
    },
    {
      "cell_type": "markdown",
      "metadata": {
        "id": "m4XdxpZHuH4B"
      },
      "source": [
        "* <code>sorted()</code> function does not change our list"
      ]
    },
    {
      "cell_type": "code",
      "metadata": {
        "id": "3y-kuB8tuH4B",
        "colab": {
          "base_uri": "https://localhost:8080/"
        },
        "outputId": "c11128e2-c90f-457c-8569-d7d187103f45"
      },
      "source": [
        "new_list"
      ],
      "execution_count": null,
      "outputs": [
        {
          "output_type": "execute_result",
          "data": {
            "text/plain": [
              "['Argue', 'Burglar', 'Parent', 'Linear', 'shape']"
            ]
          },
          "metadata": {},
          "execution_count": 64
        }
      ]
    },
    {
      "cell_type": "markdown",
      "metadata": {
        "id": "gzCO-o-1uH4F"
      },
      "source": [
        "## List Methods\n",
        "\n",
        "* If you are familiar with another programming language, you might start to draw parallels between arrays in another language and lists in Python. Lists in Python however, tend to be more flexible than arrays in other languages for a two good reasons: they have no fixed size (meaning we don't have to specify how big a list will be), and they have no fixed type constraint (like we've seen above).\n",
        "\n",
        "\n",
        "* Let's go ahead and explore some more special methods for lists:"
      ]
    },
    {
      "cell_type": "code",
      "metadata": {
        "id": "q-kfah9VuH4H"
      },
      "source": [
        "# Create a new list\n",
        "my_list = [1,2,3,1,1,1,3,10,5,8]"
      ],
      "execution_count": null,
      "outputs": []
    },
    {
      "cell_type": "markdown",
      "metadata": {
        "id": "BgmqyEUHuH4M"
      },
      "source": [
        "### <code>append()</code> \n",
        "\n",
        "* Use the <code>append()</code> method to permanently add an item to the end of a list.\n",
        "\n",
        "\n",
        "* <code>append()</code> method takes the element which you want to add to the list as an argument"
      ]
    },
    {
      "cell_type": "code",
      "metadata": {
        "id": "saQ5SspXuH4M",
        "colab": {
          "base_uri": "https://localhost:8080/"
        },
        "outputId": "88c69aca-ae89-4fd8-9b85-7310469009f4"
      },
      "source": [
        "# Print the list\n",
        "my_list"
      ],
      "execution_count": null,
      "outputs": [
        {
          "output_type": "execute_result",
          "data": {
            "text/plain": [
              "[1, 2, 3, 1, 1, 1, 3, 10, 5, 8]"
            ]
          },
          "metadata": {},
          "execution_count": 66
        }
      ]
    },
    {
      "cell_type": "code",
      "metadata": {
        "id": "gVdtMuXOurNk",
        "colab": {
          "base_uri": "https://localhost:8080/"
        },
        "outputId": "22ef76a4-d9dd-4753-c369-40c92542f44b"
      },
      "source": [
        "len(my_list)"
      ],
      "execution_count": null,
      "outputs": [
        {
          "output_type": "execute_result",
          "data": {
            "text/plain": [
              "10"
            ]
          },
          "metadata": {},
          "execution_count": 67
        }
      ]
    },
    {
      "cell_type": "code",
      "metadata": {
        "id": "byL4_5EruH4Q"
      },
      "source": [
        "# Append to the end of the list\n",
        "my_list.append('Append me!')"
      ],
      "execution_count": null,
      "outputs": []
    },
    {
      "cell_type": "markdown",
      "metadata": {
        "id": "7yniA300uH4V"
      },
      "source": [
        "* Ah darn it! I was expecting some output. Lets see what happened to <code>my_list</code>"
      ]
    },
    {
      "cell_type": "code",
      "metadata": {
        "id": "t1qW2S6SuH4W",
        "colab": {
          "base_uri": "https://localhost:8080/"
        },
        "outputId": "c86e6705-fe69-447a-e42e-25f1b0e3f331"
      },
      "source": [
        "print(my_list)"
      ],
      "execution_count": null,
      "outputs": [
        {
          "output_type": "stream",
          "name": "stdout",
          "text": [
            "[1, 2, 3, 1, 1, 1, 3, 10, 5, 8, 'Append me!']\n"
          ]
        }
      ]
    },
    {
      "cell_type": "code",
      "metadata": {
        "colab": {
          "base_uri": "https://localhost:8080/"
        },
        "id": "9BMYgas1XeYO",
        "outputId": "e0347ed6-f30b-44d7-9ed0-7f550f24e2f6"
      },
      "source": [
        "len(my_list)"
      ],
      "execution_count": null,
      "outputs": [
        {
          "output_type": "execute_result",
          "data": {
            "text/plain": [
              "11"
            ]
          },
          "metadata": {},
          "execution_count": 70
        }
      ]
    },
    {
      "cell_type": "markdown",
      "metadata": {
        "id": "L4UT-17_uH4c"
      },
      "source": [
        "* Woah! Calling the <code>append()</code> method changed my list? Yes, the <code>append()</code>  method changes your original list!"
      ]
    },
    {
      "cell_type": "code",
      "metadata": {
        "id": "_llNxOVDuH4c"
      },
      "source": [
        "# Show\n",
        "my_list.append(2.73)"
      ],
      "execution_count": null,
      "outputs": []
    },
    {
      "cell_type": "code",
      "metadata": {
        "id": "dc-ercdKuH4h",
        "colab": {
          "base_uri": "https://localhost:8080/"
        },
        "outputId": "4442906b-cb8f-4644-93eb-b653232408ec"
      },
      "source": [
        "print(my_list)"
      ],
      "execution_count": null,
      "outputs": [
        {
          "output_type": "stream",
          "name": "stdout",
          "text": [
            "[1, 2, 3, 1, 1, 1, 3, 10, 5, 8, 'Append me!', 2.73]\n"
          ]
        }
      ]
    },
    {
      "cell_type": "markdown",
      "metadata": {
        "id": "3NrEzBJFuH4u"
      },
      "source": [
        "* We can in fact add a list object to our <code>my_list</code> object"
      ]
    },
    {
      "cell_type": "code",
      "metadata": {
        "id": "xIMMzSLNuH4u"
      },
      "source": [
        "my_list.append([1,2,3])"
      ],
      "execution_count": null,
      "outputs": []
    },
    {
      "cell_type": "code",
      "metadata": {
        "id": "CjjTg7jAuH4y",
        "colab": {
          "base_uri": "https://localhost:8080/"
        },
        "outputId": "9033f9fa-d353-422e-9e0a-87220e5760c6"
      },
      "source": [
        "my_list"
      ],
      "execution_count": null,
      "outputs": [
        {
          "output_type": "execute_result",
          "data": {
            "text/plain": [
              "[1, 2, 3, 1, 1, 1, 3, 10, 5, 8, 'Append me!', 2.73, [1, 2, 3]]"
            ]
          },
          "metadata": {},
          "execution_count": 74
        }
      ]
    },
    {
      "cell_type": "code",
      "metadata": {
        "colab": {
          "base_uri": "https://localhost:8080/"
        },
        "id": "vd8gGikTYUF4",
        "outputId": "7ffdaf07-764c-4da6-c112-f1f09898b597"
      },
      "source": [
        "len(my_list)"
      ],
      "execution_count": null,
      "outputs": [
        {
          "output_type": "execute_result",
          "data": {
            "text/plain": [
              "13"
            ]
          },
          "metadata": {},
          "execution_count": 60
        }
      ]
    },
    {
      "cell_type": "code",
      "source": [
        "my_list[12][0:2]"
      ],
      "metadata": {
        "colab": {
          "base_uri": "https://localhost:8080/"
        },
        "id": "6ZrQuKTAmWzU",
        "outputId": "f86770a5-dff6-4bf9-9e6c-78cefd007215"
      },
      "execution_count": null,
      "outputs": [
        {
          "output_type": "execute_result",
          "data": {
            "text/plain": [
              "[1, 2]"
            ]
          },
          "metadata": {},
          "execution_count": 83
        }
      ]
    },
    {
      "cell_type": "code",
      "metadata": {
        "id": "tPnUf3nbYgqs"
      },
      "source": [
        "my_list.append([10,[19,20],30])"
      ],
      "execution_count": null,
      "outputs": []
    },
    {
      "cell_type": "code",
      "metadata": {
        "colab": {
          "base_uri": "https://localhost:8080/"
        },
        "id": "Blq4mDwXYme1",
        "outputId": "74b4dbd7-746c-40ae-c0fa-358c20c66fc0"
      },
      "source": [
        "len(my_list)"
      ],
      "execution_count": null,
      "outputs": [
        {
          "output_type": "execute_result",
          "data": {
            "text/plain": [
              "14"
            ]
          },
          "metadata": {},
          "execution_count": 85
        }
      ]
    },
    {
      "cell_type": "code",
      "source": [
        "my_list"
      ],
      "metadata": {
        "colab": {
          "base_uri": "https://localhost:8080/"
        },
        "id": "PoITAm1hm8mI",
        "outputId": "67c40f47-31dc-4603-b5ca-0438d3b765a3"
      },
      "execution_count": null,
      "outputs": [
        {
          "output_type": "execute_result",
          "data": {
            "text/plain": [
              "[1,\n",
              " 2,\n",
              " 3,\n",
              " 1,\n",
              " 1,\n",
              " 1,\n",
              " 3,\n",
              " 10,\n",
              " 5,\n",
              " 8,\n",
              " 'Append me!',\n",
              " 2.73,\n",
              " [1, 2, 3],\n",
              " [10, [19, 20], 30]]"
            ]
          },
          "metadata": {},
          "execution_count": 86
        }
      ]
    },
    {
      "cell_type": "code",
      "source": [
        "student = ['Ravi', 'm', 31, ['Math', 'Science', 'English']]"
      ],
      "metadata": {
        "id": "jnCROF4wnFpn"
      },
      "execution_count": null,
      "outputs": []
    },
    {
      "cell_type": "markdown",
      "metadata": {
        "id": "tGmbu4MKuH43"
      },
      "source": [
        "### <code>extend()</code>\n",
        "\n",
        "* Use the <code> extend()</code> method to merge a list to an existing list\n",
        "\n",
        "\n",
        "* <code> extend()</code> method takes a list or any iterable(don't worry about it now) as an argument.\n",
        "\n",
        "\n",
        "* Quite helpful when you have two or more lists and you want to merge them together"
      ]
    },
    {
      "cell_type": "code",
      "metadata": {
        "id": "yvkbC_3uuH43",
        "colab": {
          "base_uri": "https://localhost:8080/"
        },
        "outputId": "cd1c953a-6b68-4ce0-98e3-34d9e5681853"
      },
      "source": [
        "# Print the list\n",
        "print(my_list)"
      ],
      "execution_count": null,
      "outputs": [
        {
          "output_type": "stream",
          "name": "stdout",
          "text": [
            "[1, 2, 3, 1, 1, 1, 3, 10, 5, 8, 'Append me!', 2.73, [1, 2, 3], [10, [19, 20], 30]]\n"
          ]
        }
      ]
    },
    {
      "cell_type": "code",
      "metadata": {
        "id": "gdvUZUYEuH49"
      },
      "source": [
        "my_list.extend(['Wubba','Lubba','Dub Dub'])"
      ],
      "execution_count": null,
      "outputs": []
    },
    {
      "cell_type": "code",
      "metadata": {
        "id": "PU-1mE1xuH5A",
        "colab": {
          "base_uri": "https://localhost:8080/"
        },
        "outputId": "815b7984-9303-42a0-d065-66b10df54322"
      },
      "source": [
        "print(my_list)"
      ],
      "execution_count": null,
      "outputs": [
        {
          "output_type": "stream",
          "name": "stdout",
          "text": [
            "[1, 2, 3, 1, 1, 1, 3, 10, 5, 8, 'Append me!', 2.73, [1, 2, 3], [10, [19, 20], 30], 'Wubba', 'Lubba', 'Dub Dub', ['Wubba', 'Lubba', 'Dub Dub'], 'Wubba', 'Lubba', 'Dub Dub']\n"
          ]
        }
      ]
    },
    {
      "cell_type": "code",
      "metadata": {
        "colab": {
          "base_uri": "https://localhost:8080/"
        },
        "id": "hQo7GQA0aDIz",
        "outputId": "5f9483a3-14dc-4a92-a5fb-869f2267e5c3"
      },
      "source": [
        "len(my_list)"
      ],
      "execution_count": null,
      "outputs": [
        {
          "output_type": "execute_result",
          "data": {
            "text/plain": [
              "21"
            ]
          },
          "metadata": {},
          "execution_count": 98
        }
      ]
    },
    {
      "cell_type": "code",
      "source": [
        "my_list.extend([1,2,3])\n",
        "len(my_list)"
      ],
      "metadata": {
        "colab": {
          "base_uri": "https://localhost:8080/"
        },
        "id": "DqtoMmAaQMFk",
        "outputId": "33e1f9ec-3400-481a-a268-04f6d0bb6f58"
      },
      "execution_count": null,
      "outputs": [
        {
          "output_type": "execute_result",
          "data": {
            "text/plain": [
              "24"
            ]
          },
          "metadata": {},
          "execution_count": 22
        }
      ]
    },
    {
      "cell_type": "code",
      "source": [
        "my_list"
      ],
      "metadata": {
        "colab": {
          "base_uri": "https://localhost:8080/"
        },
        "id": "bhaC2H4fQYjy",
        "outputId": "ae96b3ca-91b6-435e-a030-a69676f6f0d3"
      },
      "execution_count": null,
      "outputs": [
        {
          "output_type": "execute_result",
          "data": {
            "text/plain": [
              "[1,\n",
              " 2,\n",
              " 3,\n",
              " 1,\n",
              " 1,\n",
              " 1,\n",
              " 3,\n",
              " 10,\n",
              " 5,\n",
              " 8,\n",
              " 1,\n",
              " 2,\n",
              " 3,\n",
              " 1,\n",
              " 2,\n",
              " 3,\n",
              " 1,\n",
              " 2,\n",
              " 3,\n",
              " {1, 2, 3},\n",
              " [1, 2, 3],\n",
              " 1,\n",
              " 2,\n",
              " 3]"
            ]
          },
          "metadata": {},
          "execution_count": 23
        }
      ]
    },
    {
      "cell_type": "markdown",
      "source": [
        "### <code>insert()</code>\n",
        "\n",
        "* We can also insert items anywhere we want in a list, using the insert() function. \n",
        "\n",
        "* We specify the position we want the item to have, and everything from that point on is shifted one position to the right. \n",
        "\n",
        "* In other words, the index of every item after the new item is increased by one."
      ],
      "metadata": {
        "id": "NPlLRS6jAVD2"
      }
    },
    {
      "cell_type": "code",
      "source": [
        "my_list.insert(2, 'ravi')"
      ],
      "metadata": {
        "id": "TnCrFPA9owWi"
      },
      "execution_count": null,
      "outputs": []
    },
    {
      "cell_type": "code",
      "source": [
        "my_list"
      ],
      "metadata": {
        "colab": {
          "base_uri": "https://localhost:8080/"
        },
        "id": "9k3Z5Bi9o4KN",
        "outputId": "1bd5307e-cabb-45da-d6ff-53147887ae13"
      },
      "execution_count": null,
      "outputs": [
        {
          "output_type": "execute_result",
          "data": {
            "text/plain": [
              "[1,\n",
              " 2,\n",
              " 'ravi',\n",
              " 3,\n",
              " 1,\n",
              " 1,\n",
              " 1,\n",
              " 3,\n",
              " 10,\n",
              " 5,\n",
              " 8,\n",
              " 'Append me!',\n",
              " 2.73,\n",
              " [1, 2, 3],\n",
              " [10, [19, 20], 30],\n",
              " 'Wubba',\n",
              " 'Lubba',\n",
              " 'Dub Dub',\n",
              " ['Wubba', 'Lubba', 'Dub Dub'],\n",
              " 'Wubba',\n",
              " 'Lubba',\n",
              " 'Dub Dub']"
            ]
          },
          "metadata": {},
          "execution_count": 100
        }
      ]
    },
    {
      "cell_type": "code",
      "source": [
        "dogs = ['border collie', 'australian cattle dog', 'labrador retriever']\n",
        "dogs.insert(1, 'poodle')\n",
        "\n",
        "print(dogs)"
      ],
      "metadata": {
        "colab": {
          "base_uri": "https://localhost:8080/"
        },
        "id": "rXh7vFxEpX2a",
        "outputId": "1ca30d12-89f1-4d01-986d-32fbda90a0c1"
      },
      "execution_count": null,
      "outputs": [
        {
          "output_type": "stream",
          "name": "stdout",
          "text": [
            "['border collie', 'poodle', 'australian cattle dog', 'labrador retriever']\n"
          ]
        }
      ]
    },
    {
      "cell_type": "markdown",
      "metadata": {
        "id": "rshOIKENuH5F"
      },
      "source": [
        "### <code>pop()</code>\n",
        "\n",
        "* Use <code>pop()</code> to \"pop off\" an item from the list. \n",
        "\n",
        "\n",
        "* By default <code>pop()</code> takes off the element at the last index, but you can also specify which index to pop off. \n",
        "\n",
        "\n",
        "* <code>pop()</code> takes the index as an argument and returns the element which was popped off."
      ]
    },
    {
      "cell_type": "code",
      "metadata": {
        "id": "fhLzeQHYuH5G",
        "colab": {
          "base_uri": "https://localhost:8080/"
        },
        "outputId": "b91fd510-9e67-4d41-aea6-360e588e596b"
      },
      "source": [
        "# Print the list\n",
        "print(my_list)"
      ],
      "execution_count": null,
      "outputs": [
        {
          "output_type": "stream",
          "name": "stdout",
          "text": [
            "[1, 2, 'ravi', 3, 1, 1, 1, 3, 10, 5, 8, 'Append me!', 2.73, [1, 2, 3], [10, [19, 20], 30], 'Wubba', 'Lubba', 'Dub Dub', ['Wubba', 'Lubba', 'Dub Dub'], 'Wubba', 'Lubba', 'Dub Dub']\n"
          ]
        }
      ]
    },
    {
      "cell_type": "code",
      "metadata": {
        "id": "k1OLmtIquH5M",
        "colab": {
          "base_uri": "https://localhost:8080/",
          "height": 35
        },
        "outputId": "b04a8a96-0b38-43b7-8afe-40eb5fec387b"
      },
      "source": [
        "# Pop off the 0 indexed item\n",
        "my_list.pop()"
      ],
      "execution_count": null,
      "outputs": [
        {
          "output_type": "execute_result",
          "data": {
            "text/plain": [
              "'Dub Dub'"
            ],
            "application/vnd.google.colaboratory.intrinsic+json": {
              "type": "string"
            }
          },
          "metadata": {},
          "execution_count": 103
        }
      ]
    },
    {
      "cell_type": "markdown",
      "metadata": {
        "id": "SNWR6QjouH5Q"
      },
      "source": [
        "* <code>pop()</code> method changes the list by popping off the element at the specified index"
      ]
    },
    {
      "cell_type": "code",
      "metadata": {
        "id": "TFiATwmXuH5R",
        "colab": {
          "base_uri": "https://localhost:8080/"
        },
        "outputId": "efd6f638-3cc8-4b3d-87e4-427ccf9576e7"
      },
      "source": [
        "print(my_list)"
      ],
      "execution_count": null,
      "outputs": [
        {
          "output_type": "stream",
          "name": "stdout",
          "text": [
            "[1, 2, 'ravi', 3, 1, 1, 1, 3, 10, 5, 8, 'Append me!', 2.73, [1, 2, 3], [10, [19, 20], 30], 'Wubba', 'Lubba', 'Dub Dub', ['Wubba', 'Lubba', 'Dub Dub'], 'Wubba', 'Lubba']\n"
          ]
        }
      ]
    },
    {
      "cell_type": "code",
      "metadata": {
        "id": "33cAUa7wuH5V",
        "colab": {
          "base_uri": "https://localhost:8080/"
        },
        "outputId": "ff609778-17e2-44db-ce6a-69dc12eaafc5"
      },
      "source": [
        "# Assign the popped element, remember default popped index is -1\n",
        "my_list.pop(-2)"
      ],
      "execution_count": null,
      "outputs": [
        {
          "output_type": "execute_result",
          "data": {
            "text/plain": [
              "['Wubba', 'Lubba', 'Dub Dub']"
            ]
          },
          "metadata": {},
          "execution_count": 106
        }
      ]
    },
    {
      "cell_type": "code",
      "metadata": {
        "id": "qX6eae3UuH5c",
        "colab": {
          "base_uri": "https://localhost:8080/"
        },
        "outputId": "b9054c84-d963-4813-faad-a50438df4b1b"
      },
      "source": [
        "len(my_list)"
      ],
      "execution_count": null,
      "outputs": [
        {
          "output_type": "execute_result",
          "data": {
            "text/plain": [
              "19"
            ]
          },
          "metadata": {},
          "execution_count": 107
        }
      ]
    },
    {
      "cell_type": "code",
      "metadata": {
        "id": "pHi_Ws8uw0w0",
        "colab": {
          "base_uri": "https://localhost:8080/"
        },
        "outputId": "a13e2fff-84d1-47c7-b851-9ac9c5444bdc"
      },
      "source": [
        "print(my_list)"
      ],
      "execution_count": null,
      "outputs": [
        {
          "output_type": "stream",
          "name": "stdout",
          "text": [
            "[1, 2, 'ravi', 3, 1, 1, 1, 3, 10, 5, 8, 'Append me!', 2.73, [1, 2, 3], [10, [19, 20], 30], 'Wubba', 'Lubba', 'Dub Dub', 'Wubba']\n"
          ]
        }
      ]
    },
    {
      "cell_type": "markdown",
      "metadata": {
        "id": "YBAQ1FyQuH5f"
      },
      "source": [
        "### <code>remove()</code>\n",
        "\n",
        "* Use <code>remove()</code> to remove an item/element from the list. \n",
        "\n",
        "\n",
        "* By default <code>remove()</code> removes the specified element from the list.\n",
        "\n",
        "\n",
        "* <code>remove()</code> takes the element as an argument."
      ]
    },
    {
      "cell_type": "code",
      "metadata": {
        "id": "j9pp3cEJuH5g",
        "colab": {
          "base_uri": "https://localhost:8080/"
        },
        "outputId": "81f57e13-f2e0-4258-b374-8cc7b2a965f2"
      },
      "source": [
        "# Print the list\n",
        "print(my_list)"
      ],
      "execution_count": null,
      "outputs": [
        {
          "output_type": "stream",
          "name": "stdout",
          "text": [
            "[1, 2, 'ravi', 3, 1, 1, 1, 3, 10, 5, 8, 'Append me!', 2.73, [1, 2, 3], [10, [19, 20], 30], 'Wubba', 'Lubba', 'Dub Dub', 'Wubba']\n"
          ]
        }
      ]
    },
    {
      "cell_type": "code",
      "metadata": {
        "id": "pTPu7lszuH5j"
      },
      "source": [
        "# Remove the element which you want to \n",
        "my_list.remove([10, [19, 20], 30])"
      ],
      "execution_count": null,
      "outputs": []
    },
    {
      "cell_type": "code",
      "metadata": {
        "id": "wI2Yz2UYuH5p",
        "colab": {
          "base_uri": "https://localhost:8080/"
        },
        "outputId": "fa8e8ffd-4fe6-4dc1-d33c-bb87a7cb9abc"
      },
      "source": [
        "# Show\n",
        "print(my_list)"
      ],
      "execution_count": null,
      "outputs": [
        {
          "output_type": "stream",
          "name": "stdout",
          "text": [
            "[1, 2, 'ravi', 3, 1, 1, 1, 3, 10, 5, 8, 'Append me!', 2.73, [1, 2, 3], 'Wubba', 'Lubba', 'Dub Dub', 'Wubba']\n"
          ]
        }
      ]
    },
    {
      "cell_type": "code",
      "metadata": {
        "id": "OWn2q_6cxYo2"
      },
      "source": [
        "my_list.remove([1,2,3])"
      ],
      "execution_count": null,
      "outputs": []
    },
    {
      "cell_type": "code",
      "metadata": {
        "id": "D_duqvRJxd16",
        "colab": {
          "base_uri": "https://localhost:8080/"
        },
        "outputId": "52191f03-332d-48c2-f725-4bc24a93b39c"
      },
      "source": [
        "print(my_list)"
      ],
      "execution_count": null,
      "outputs": [
        {
          "output_type": "stream",
          "name": "stdout",
          "text": [
            "[1, 2, 'ravi', 3, 1, 1, 1, 3, 10, 5, 8, 'Append me!', 2.73, 'Wubba', 'Lubba', 'Dub Dub', 'Wubba']\n"
          ]
        }
      ]
    },
    {
      "cell_type": "code",
      "metadata": {
        "id": "i8h8-qVtxhPI",
        "colab": {
          "base_uri": "https://localhost:8080/"
        },
        "outputId": "19f1df6e-ac31-42ad-d6a6-cc27ac233868"
      },
      "source": [
        "len(my_list)"
      ],
      "execution_count": null,
      "outputs": [
        {
          "output_type": "execute_result",
          "data": {
            "text/plain": [
              "17"
            ]
          },
          "metadata": {},
          "execution_count": 114
        }
      ]
    },
    {
      "cell_type": "code",
      "metadata": {
        "id": "f5-UZ88Exwth"
      },
      "source": [
        "my_list.remove(1)"
      ],
      "execution_count": null,
      "outputs": []
    },
    {
      "cell_type": "code",
      "metadata": {
        "id": "d3WxCp0Cxzty",
        "colab": {
          "base_uri": "https://localhost:8080/"
        },
        "outputId": "e2bfec7f-4bd5-450d-e451-78b67fb2a750"
      },
      "source": [
        "print(my_list)"
      ],
      "execution_count": null,
      "outputs": [
        {
          "output_type": "stream",
          "name": "stdout",
          "text": [
            "[2, 'ravi', 3, 1, 1, 1, 3, 10, 5, 8, 'Append me!', 2.73, 'Wubba', 'Lubba', 'Dub Dub', 'Wubba']\n"
          ]
        }
      ]
    },
    {
      "cell_type": "code",
      "source": [
        "dogs = ['border collie', 'australian cattle dog', 'labrador retriever']\n",
        "# Remove the first dog from the list.\n",
        "del dogs[0]\n",
        "\n",
        "print(dogs)"
      ],
      "metadata": {
        "colab": {
          "base_uri": "https://localhost:8080/"
        },
        "id": "WdftWZYY6RCl",
        "outputId": "c0c3c828-7b12-42da-9a2e-4b3885aded53"
      },
      "execution_count": null,
      "outputs": [
        {
          "output_type": "stream",
          "name": "stdout",
          "text": [
            "['australian cattle dog', 'labrador retriever']\n"
          ]
        }
      ]
    },
    {
      "cell_type": "code",
      "metadata": {
        "id": "4ewbAKKhx-vS",
        "colab": {
          "base_uri": "https://localhost:8080/"
        },
        "outputId": "6255168f-98b7-40f4-96a0-bb34d28f10ee"
      },
      "source": [
        "len(my_list)"
      ],
      "execution_count": null,
      "outputs": [
        {
          "output_type": "execute_result",
          "data": {
            "text/plain": [
              "16"
            ]
          },
          "metadata": {},
          "execution_count": 118
        }
      ]
    },
    {
      "cell_type": "code",
      "metadata": {
        "id": "-gey8zXHcsH5"
      },
      "source": [
        "my_list.clear()"
      ],
      "execution_count": null,
      "outputs": []
    },
    {
      "cell_type": "code",
      "source": [
        "my_list"
      ],
      "metadata": {
        "colab": {
          "base_uri": "https://localhost:8080/"
        },
        "id": "F9iCkw1Y6LEJ",
        "outputId": "092effb7-43ce-47f1-abf6-e5de8e84cb29"
      },
      "execution_count": null,
      "outputs": [
        {
          "output_type": "execute_result",
          "data": {
            "text/plain": [
              "[]"
            ]
          },
          "metadata": {},
          "execution_count": 120
        }
      ]
    },
    {
      "cell_type": "code",
      "source": [
        "my_list = [2, 3, 1, 1, 1, 3, 10, 5, 8, 'Append me!', 2.73, 'Wubba']"
      ],
      "metadata": {
        "id": "7Pw4G2WQ6TfS"
      },
      "execution_count": null,
      "outputs": []
    },
    {
      "cell_type": "markdown",
      "metadata": {
        "id": "Wheg57npuH5t"
      },
      "source": [
        "### <code>count()</code>\n",
        "\n",
        "\n",
        "* The <code>count()</code> method returns the total occurrence of a specified element in the list"
      ]
    },
    {
      "cell_type": "code",
      "source": [
        "a=\"cabdd\"\n",
        "a.count('d')"
      ],
      "metadata": {
        "colab": {
          "base_uri": "https://localhost:8080/"
        },
        "id": "D4uMG3wESkPr",
        "outputId": "784bff1d-2ea3-4107-a0d9-1d09075510dc"
      },
      "execution_count": null,
      "outputs": [
        {
          "output_type": "execute_result",
          "data": {
            "text/plain": [
              "2"
            ]
          },
          "metadata": {},
          "execution_count": 25
        }
      ]
    },
    {
      "cell_type": "code",
      "metadata": {
        "id": "ECnUwg_eyG47",
        "colab": {
          "base_uri": "https://localhost:8080/"
        },
        "outputId": "2ffc85c8-3e39-4e39-899c-c8910434dd0e"
      },
      "source": [
        "print(my_list)"
      ],
      "execution_count": null,
      "outputs": [
        {
          "output_type": "stream",
          "name": "stdout",
          "text": [
            "[2, 3, 1, 1, 1, 3, 10, 5, 8, 'Append me!', 2.73, 'Wubba']\n"
          ]
        }
      ]
    },
    {
      "cell_type": "code",
      "metadata": {
        "id": "v62QCGFTuH5u",
        "colab": {
          "base_uri": "https://localhost:8080/"
        },
        "outputId": "b1656813-63f7-40c3-cff4-1ac27da1b9fc"
      },
      "source": [
        "# Count the number of times element 1 occurs in my_list\n",
        "my_list.count('Wubba')"
      ],
      "execution_count": null,
      "outputs": [
        {
          "output_type": "execute_result",
          "data": {
            "text/plain": [
              "1"
            ]
          },
          "metadata": {},
          "execution_count": 88
        }
      ]
    },
    {
      "cell_type": "code",
      "metadata": {
        "id": "LA3k4qScuH5z",
        "colab": {
          "base_uri": "https://localhost:8080/"
        },
        "outputId": "2c60a39e-aad2-47a8-9d8c-c3cb420402c4"
      },
      "source": [
        "my_list.count(1)"
      ],
      "execution_count": null,
      "outputs": [
        {
          "output_type": "execute_result",
          "data": {
            "text/plain": [
              "3"
            ]
          },
          "metadata": {},
          "execution_count": 123
        }
      ]
    },
    {
      "cell_type": "markdown",
      "metadata": {
        "id": "avyykdGjuH52"
      },
      "source": [
        "### <code>index()</code>\n",
        "\n",
        "\n",
        "* The <code>index()</code> method returns the index of a specified element."
      ]
    },
    {
      "cell_type": "code",
      "metadata": {
        "id": "78Mc3vSuydeb",
        "colab": {
          "base_uri": "https://localhost:8080/"
        },
        "outputId": "46afb156-7389-47fd-a6c5-0e9a28340941"
      },
      "source": [
        "print(my_list)"
      ],
      "execution_count": null,
      "outputs": [
        {
          "output_type": "stream",
          "name": "stdout",
          "text": [
            "[2, 3, 1, 1, 1, 3, 10, 5, 8, 'Append me!', 2.73, 'Wubba']\n"
          ]
        }
      ]
    },
    {
      "cell_type": "code",
      "metadata": {
        "id": "ziOkTs68uH52",
        "colab": {
          "base_uri": "https://localhost:8080/"
        },
        "outputId": "f48b66a6-7a8b-4df5-f5fa-9ad6b7042491"
      },
      "source": [
        "my_list.index('Wubba')"
      ],
      "execution_count": null,
      "outputs": [
        {
          "output_type": "execute_result",
          "data": {
            "text/plain": [
              "11"
            ]
          },
          "metadata": {},
          "execution_count": 125
        }
      ]
    },
    {
      "cell_type": "code",
      "metadata": {
        "id": "k-ByxvTYuH54",
        "colab": {
          "base_uri": "https://localhost:8080/"
        },
        "outputId": "67b88cda-efe0-479d-f31a-d4402310b7b2"
      },
      "source": [
        "my_list.index(3)"
      ],
      "execution_count": null,
      "outputs": [
        {
          "output_type": "execute_result",
          "data": {
            "text/plain": [
              "1"
            ]
          },
          "metadata": {},
          "execution_count": 126
        }
      ]
    },
    {
      "cell_type": "markdown",
      "metadata": {
        "id": "f4JqHtEouH57"
      },
      "source": [
        "### <code>sort()</code>\n",
        "\n",
        "* Use <code>sort()</code> to sort the list in either ascending/descending order\n",
        "\n",
        "\n",
        "* The sorting is done in ascending order by default\n",
        "\n",
        "\n",
        "* <code>sort()</code> method takes the reverse boolean as an argument\n",
        "\n",
        "\n",
        "* <code>sort()</code> method only works on a list with elements of same data type\n",
        "\n",
        "* Whenever you consider sorting a list, keep in mind that you can not recover the original order. If you want to display a list in sorted order, but preserve the original order, you can use the <code>sorted()</code> function. The <code>sorted()</code> function also accepts the optional reverse=True argument."
      ]
    },
    {
      "cell_type": "code",
      "metadata": {
        "id": "yOIhOzjruH57"
      },
      "source": [
        "new_list = [6, 9, 1, 3, 5]"
      ],
      "execution_count": null,
      "outputs": []
    },
    {
      "cell_type": "code",
      "source": [
        "new_list[2]=3"
      ],
      "metadata": {
        "id": "ALI1d74otD6D"
      },
      "execution_count": null,
      "outputs": []
    },
    {
      "cell_type": "code",
      "source": [
        "new_list"
      ],
      "metadata": {
        "colab": {
          "base_uri": "https://localhost:8080/"
        },
        "id": "fu0yho1WtK57",
        "outputId": "d7f43be8-69a3-498d-f4b6-77ce5c9bdbb0"
      },
      "execution_count": null,
      "outputs": [
        {
          "output_type": "execute_result",
          "data": {
            "text/plain": [
              "[6, 9, 3, 3, 5]"
            ]
          },
          "metadata": {},
          "execution_count": 28
        }
      ]
    },
    {
      "cell_type": "code",
      "source": [
        "sorted(new_list)"
      ],
      "metadata": {
        "colab": {
          "base_uri": "https://localhost:8080/"
        },
        "id": "3mdDrbecsNz-",
        "outputId": "cec71751-19cb-48df-ea90-ac3bc8457318"
      },
      "execution_count": null,
      "outputs": [
        {
          "output_type": "execute_result",
          "data": {
            "text/plain": [
              "[3, 3, 5, 6, 9]"
            ]
          },
          "metadata": {},
          "execution_count": 151
        }
      ]
    },
    {
      "cell_type": "code",
      "source": [
        "new_list"
      ],
      "metadata": {
        "colab": {
          "base_uri": "https://localhost:8080/"
        },
        "id": "Ew70WnKVsP2D",
        "outputId": "3d3ae3f3-b17c-40c5-89f9-f5ae39948b46"
      },
      "execution_count": null,
      "outputs": [
        {
          "output_type": "execute_result",
          "data": {
            "text/plain": [
              "[6, 9, 3, 3, 5]"
            ]
          },
          "metadata": {},
          "execution_count": 152
        }
      ]
    },
    {
      "cell_type": "code",
      "metadata": {
        "id": "VhPOveeYuH59"
      },
      "source": [
        "# Use sort to sort the list (this is permanent!)\n",
        "new_list.sort()"
      ],
      "execution_count": null,
      "outputs": []
    },
    {
      "cell_type": "code",
      "metadata": {
        "id": "iw_PGYFmuH6S",
        "colab": {
          "base_uri": "https://localhost:8080/"
        },
        "outputId": "a9513bab-842a-480b-ee82-f10a59a9a04b"
      },
      "source": [
        "print(new_list)"
      ],
      "execution_count": null,
      "outputs": [
        {
          "output_type": "stream",
          "name": "stdout",
          "text": [
            "[3, 3, 5, 6, 9]\n"
          ]
        }
      ]
    },
    {
      "cell_type": "code",
      "metadata": {
        "id": "7G1nOh1VuH6U",
        "colab": {
          "base_uri": "https://localhost:8080/"
        },
        "outputId": "3a032722-ff68-4645-f7c6-a03433ac030a"
      },
      "source": [
        "# Use the reverse boolean to set the ascending or descending order\n",
        "new_list.sort(reverse=True)\n",
        "print(new_list)"
      ],
      "execution_count": null,
      "outputs": [
        {
          "output_type": "stream",
          "name": "stdout",
          "text": [
            "[9, 6, 5, 3, 3]\n"
          ]
        }
      ]
    },
    {
      "cell_type": "code",
      "metadata": {
        "id": "QIoFBvqOzosU"
      },
      "source": [
        "boolean_list = [True, False]"
      ],
      "execution_count": null,
      "outputs": []
    },
    {
      "cell_type": "code",
      "metadata": {
        "id": "tqENLXmJzueH"
      },
      "source": [
        "boolean_list.sort()"
      ],
      "execution_count": null,
      "outputs": []
    },
    {
      "cell_type": "code",
      "metadata": {
        "id": "O6MiKYnMzxvD",
        "colab": {
          "base_uri": "https://localhost:8080/"
        },
        "outputId": "a033e8b8-6e53-4b15-c1e4-1fa5b3cfe56d"
      },
      "source": [
        "print(boolean_list)"
      ],
      "execution_count": null,
      "outputs": [
        {
          "output_type": "stream",
          "name": "stdout",
          "text": [
            "[False, True]\n"
          ]
        }
      ]
    },
    {
      "cell_type": "markdown",
      "metadata": {
        "id": "-PKIGd9xuH6a"
      },
      "source": [
        "### <code>reverse()</code>\n",
        "\n",
        "* <code>reverse()</code> method reverses the list"
      ]
    },
    {
      "cell_type": "code",
      "metadata": {
        "id": "0Z_IZuJeuH6d"
      },
      "source": [
        "my_list = [1, 1, 1, 1, 1.43, 2, 3, 3, 5, 8, 10, 'Lubba', 'Dub Dub']"
      ],
      "execution_count": null,
      "outputs": []
    },
    {
      "cell_type": "code",
      "metadata": {
        "id": "idf-jZVG0FWq",
        "colab": {
          "base_uri": "https://localhost:8080/"
        },
        "outputId": "1c3c04a8-7de0-4496-d89c-f41d090e2d91"
      },
      "source": [
        "print(my_list)"
      ],
      "execution_count": null,
      "outputs": [
        {
          "output_type": "stream",
          "name": "stdout",
          "text": [
            "[1, 1, 1, 1, 1.43, 2, 3, 3, 5, 8, 10, 'Lubba', 'Dub Dub']\n"
          ]
        }
      ]
    },
    {
      "cell_type": "code",
      "metadata": {
        "id": "XlHNzFuWuH6f"
      },
      "source": [
        "my_list.reverse()"
      ],
      "execution_count": null,
      "outputs": []
    },
    {
      "cell_type": "code",
      "metadata": {
        "id": "EIjRqvMsuH6h",
        "colab": {
          "base_uri": "https://localhost:8080/"
        },
        "outputId": "56c4623b-5fbf-496e-cdab-360c2a1902ae"
      },
      "source": [
        "print(my_list)"
      ],
      "execution_count": null,
      "outputs": [
        {
          "output_type": "stream",
          "name": "stdout",
          "text": [
            "['Dub Dub', 'Lubba', 10, 8, 5, 3, 3, 2, 1.43, 1, 1, 1, 1]\n"
          ]
        }
      ]
    },
    {
      "cell_type": "markdown",
      "metadata": {
        "id": "Kflrg7Y0uH6j"
      },
      "source": [
        "## Nested Lists\n",
        "\n",
        "* A great feature of of Python data structures is that they support *nesting*. This means we can have data structures within data structures. For example: A list inside a list."
      ]
    },
    {
      "cell_type": "code",
      "metadata": {
        "id": "fcP7eX_buH6j"
      },
      "source": [
        "# Let's make three lists\n",
        "lst_1=[1,2,3]\n",
        "lst_2=['b','a','d']\n",
        "lst_3=[7,8,9]\n",
        "\n",
        "# Make a list of lists to form a matrix\n",
        "list_of_lists = [lst_1,lst_2,lst_3]"
      ],
      "execution_count": null,
      "outputs": []
    },
    {
      "cell_type": "code",
      "metadata": {
        "id": "ZW98bxOcuH6l",
        "colab": {
          "base_uri": "https://localhost:8080/"
        },
        "outputId": "c81485a2-0c22-4b0b-c0b1-2554990f802e"
      },
      "source": [
        "print(list_of_lists)"
      ],
      "execution_count": null,
      "outputs": [
        {
          "output_type": "stream",
          "name": "stdout",
          "text": [
            "[[1, 2, 3], ['b', 'a', 'd'], [7, 8, 9]]\n"
          ]
        }
      ]
    },
    {
      "cell_type": "code",
      "metadata": {
        "id": "LCsNZqhiuH6o",
        "colab": {
          "base_uri": "https://localhost:8080/"
        },
        "outputId": "bfc3c0a0-5be1-4e47-9513-e2083f63f7dd"
      },
      "source": [
        "# Show\n",
        "type(list_of_lists)"
      ],
      "execution_count": null,
      "outputs": [
        {
          "output_type": "execute_result",
          "data": {
            "text/plain": [
              "list"
            ]
          },
          "metadata": {},
          "execution_count": 157
        }
      ]
    },
    {
      "cell_type": "code",
      "metadata": {
        "id": "b0RVu1A9uH6r",
        "colab": {
          "base_uri": "https://localhost:8080/"
        },
        "outputId": "cba1218f-1436-46ea-bb4d-04dd8830e1d9"
      },
      "source": [
        "# Grab second item in matrix object\n",
        "list_of_lists[1]"
      ],
      "execution_count": null,
      "outputs": [
        {
          "output_type": "execute_result",
          "data": {
            "text/plain": [
              "['b', 'a', 'd']"
            ]
          },
          "metadata": {},
          "execution_count": 159
        }
      ]
    },
    {
      "cell_type": "code",
      "metadata": {
        "id": "HXVZtlY3uH6u",
        "colab": {
          "base_uri": "https://localhost:8080/",
          "height": 35
        },
        "outputId": "61f5fd75-c252-4a36-bf70-e8eef4432b95"
      },
      "source": [
        "# Grab first item of the first item in the matrix object\n",
        "list_of_lists[1][1]"
      ],
      "execution_count": null,
      "outputs": [
        {
          "output_type": "execute_result",
          "data": {
            "text/plain": [
              "'a'"
            ],
            "application/vnd.google.colaboratory.intrinsic+json": {
              "type": "string"
            }
          },
          "metadata": {},
          "execution_count": 164
        }
      ]
    },
    {
      "cell_type": "code",
      "metadata": {
        "id": "4B52LBDjOSIz",
        "colab": {
          "base_uri": "https://localhost:8080/",
          "height": 35
        },
        "outputId": "0651ce86-f856-4162-9c9e-0aac684790a2"
      },
      "source": [
        "list_of_lists[1][1]"
      ],
      "execution_count": null,
      "outputs": [
        {
          "output_type": "execute_result",
          "data": {
            "text/plain": [
              "'a'"
            ],
            "application/vnd.google.colaboratory.intrinsic+json": {
              "type": "string"
            }
          },
          "metadata": {},
          "execution_count": 110
        }
      ]
    },
    {
      "cell_type": "markdown",
      "source": [
        "##Looping\n",
        "\n",
        "* This is one of the most important concepts related to lists. You can have a list with a million items in it, and in three lines of code you can write a sentence for each of those million items. \n",
        "\n",
        "* We use a loop to access all the elements in a list. A loop is a block of code that repeats itself until it runs out of items to work with, or until a certain condition is met. In this case, our loop will run once for every item in our list. With a list that is three items long, our loop will run three times."
      ],
      "metadata": {
        "id": "QBzBgL1k7VVd"
      }
    },
    {
      "cell_type": "code",
      "metadata": {
        "id": "iC2D0SZCfV9n",
        "colab": {
          "base_uri": "https://localhost:8080/"
        },
        "outputId": "2dc42bd8-83d0-4bc8-d831-da31bf720ed4"
      },
      "source": [
        "#Accessing all elements in a list\n",
        "dogs = ['border collie', 'australian cattle dog', 'labrador retriever']\n",
        "\n",
        "for dog in dogs:\n",
        "    print(dog + \" is an animal\")"
      ],
      "execution_count": null,
      "outputs": [
        {
          "output_type": "stream",
          "name": "stdout",
          "text": [
            "border collie is an animal\n",
            "australian cattle dog is an animal\n",
            "labrador retriever is an animal\n"
          ]
        }
      ]
    },
    {
      "cell_type": "code",
      "source": [
        "#Doing more with each item\n",
        "dogs = ['border collie', 'australian cattle dog', 'labrador retriever']\n",
        "\n",
        "for dog in dogs:\n",
        "    print('I like ' + dog + 's.')\n",
        "    # OR print(f'I like  {dog}s')"
      ],
      "metadata": {
        "colab": {
          "base_uri": "https://localhost:8080/"
        },
        "id": "fG-2cAv69goN",
        "outputId": "88a00f01-c0ed-48b2-a3ed-a2a0ffc37fe5"
      },
      "execution_count": null,
      "outputs": [
        {
          "output_type": "stream",
          "name": "stdout",
          "text": [
            "I like border collies.\n",
            "I like australian cattle dogs.\n",
            "I like labrador retrievers.\n"
          ]
        }
      ]
    },
    {
      "cell_type": "code",
      "source": [
        "#Inside and outside the loop\n",
        "dogs = ['border collie', 'australian cattle dog', 'labrador retriever']\n",
        "\n",
        "for dog in dogs:\n",
        "    print('I like ' + dog + 's.')\n",
        "    print('No, I really really like ' + dog +'s!\\n')\n",
        "    \n",
        "        \n",
        "print(\"\\nThat's just how I feel about dogs.\")"
      ],
      "metadata": {
        "colab": {
          "base_uri": "https://localhost:8080/"
        },
        "id": "j7-8kvL09gqy",
        "outputId": "674cd23f-fefa-49d7-a93b-c36e0ceb081d"
      },
      "execution_count": null,
      "outputs": [
        {
          "output_type": "stream",
          "name": "stdout",
          "text": [
            "I like border collies.\n",
            "No, I really really like border collies!\n",
            "\n",
            "I like australian cattle dogs.\n",
            "No, I really really like australian cattle dogs!\n",
            "\n",
            "I like labrador retrievers.\n",
            "No, I really really like labrador retrievers!\n",
            "\n",
            "\n",
            "That's just how I feel about dogs.\n"
          ]
        }
      ]
    },
    {
      "cell_type": "code",
      "source": [
        "#Enumerating a list\n",
        "#When you are looping through a list, you may want to know the index of the current item. \n",
        "#You could always use the list.index(value) syntax, but there is a simpler way. \n",
        "#The enumerate() function tracks the index of each item for you, as it loops through the list:\n",
        "\n",
        "dogs = ['border collie', 'australian cattle dog', 'labrador retriever']\n",
        "\n",
        "print(\"Results for the dog show are as follows:\\n\")\n",
        "for index, dog in enumerate(dogs):\n",
        "    place = str(index)\n",
        "    print(\"Place: \" + place + \" Dog: \" + dog.title())\n"
      ],
      "metadata": {
        "colab": {
          "base_uri": "https://localhost:8080/"
        },
        "id": "oTSRvYWB9gtt",
        "outputId": "0dd4ce08-2de9-435a-cc1b-977b99c44e25"
      },
      "execution_count": null,
      "outputs": [
        {
          "output_type": "stream",
          "name": "stdout",
          "text": [
            "Results for the dog show are as follows:\n",
            "\n",
            "Place: 0 Dog: Border Collie\n",
            "Place: 1 Dog: Australian Cattle Dog\n",
            "Place: 2 Dog: Labrador Retriever\n"
          ]
        }
      ]
    },
    {
      "cell_type": "code",
      "source": [
        "dogs = ['border collie', 'australian cattle dog', 'labrador retriever']\n",
        "\n",
        "print(\"Results for the dog show are as follows:\\n\")\n",
        "for index, dog in enumerate(dogs):\n",
        "    place = str(index+1)\n",
        "    print(\"Place: \" + place + \" Dog: \" + dog.title())"
      ],
      "metadata": {
        "colab": {
          "base_uri": "https://localhost:8080/"
        },
        "id": "UiT0sipP9gwI",
        "outputId": "bd4e5a81-219d-4a30-a935-f358de3557c3"
      },
      "execution_count": null,
      "outputs": [
        {
          "output_type": "stream",
          "name": "stdout",
          "text": [
            "Results for the dog show are as follows:\n",
            "\n",
            "Place: 1 Dog: Border Collie\n",
            "Place: 2 Dog: Australian Cattle Dog\n",
            "Place: 3 Dog: Labrador Retriever\n"
          ]
        }
      ]
    },
    {
      "cell_type": "markdown",
      "source": [
        "Python allows two keywords to be used within a for loop: break and continue.\n",
        "\n",
        "The two keywords have two different meanings:\n",
        "\n",
        "Break used to immediatly break the loop and exit!\n",
        "Continue used to skip to the next iteration step!"
      ],
      "metadata": {
        "id": "wSo1R4_Y_gJd"
      }
    },
    {
      "cell_type": "code",
      "source": [
        "dogs = ['border collie', 'australian cattle dog', 'labrador retriever']\n",
        "\n",
        "print(\"Results for the dog show are as follows:\\n\")\n",
        "for index, dog in enumerate(dogs):\n",
        "  \n",
        "    if index == 1:\n",
        "      continue\n",
        "    elif index == 2:\n",
        "      break\n",
        "    place = str(index+1)\n",
        "    print(\"Place: \" + place + \" Dog: \" + dog.title())"
      ],
      "metadata": {
        "colab": {
          "base_uri": "https://localhost:8080/"
        },
        "id": "BjQFkgq_9gyf",
        "outputId": "0f3f6f41-188a-4b61-bdd7-5a8f5bde983b"
      },
      "execution_count": null,
      "outputs": [
        {
          "output_type": "stream",
          "name": "stdout",
          "text": [
            "Results for the dog show are as follows:\n",
            "\n",
            "Place: 1 Dog: Border Collie\n"
          ]
        }
      ]
    },
    {
      "cell_type": "code",
      "source": [
        "dog = 'border collie'\n",
        "dog.title()"
      ],
      "metadata": {
        "colab": {
          "base_uri": "https://localhost:8080/",
          "height": 35
        },
        "id": "g69iFgkQwQFD",
        "outputId": "13ebdec5-e56a-4874-ca9e-7eb1229116a7"
      },
      "execution_count": null,
      "outputs": [
        {
          "output_type": "execute_result",
          "data": {
            "text/plain": [
              "'Border Collie'"
            ],
            "application/vnd.google.colaboratory.intrinsic+json": {
              "type": "string"
            }
          },
          "metadata": {},
          "execution_count": 178
        }
      ]
    },
    {
      "cell_type": "markdown",
      "source": [
        "## List Comprehensions\n",
        "\n",
        "* They are a shorthand way of creating and working with lists."
      ],
      "metadata": {
        "id": "2GQ7jjENDYBA"
      }
    },
    {
      "cell_type": "markdown",
      "source": [
        "![image.png](data:image/png;base64,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)"
      ],
      "metadata": {
        "id": "Su3Wrf37EUNC"
      }
    },
    {
      "cell_type": "markdown",
      "source": [
        "### Numerical Comprehensions"
      ],
      "metadata": {
        "id": "su2JNcTNDmcV"
      }
    },
    {
      "cell_type": "code",
      "source": [
        "# Store the first ten square numbers in a list.\n",
        "# Make an empty list that will hold our square numbers.\n",
        "squares = []\n",
        "\n",
        "# Go through the first ten numbers, square them, and add them to our list.\n",
        "for number in range(1,11):\n",
        "    new_square = number**2\n",
        "    squares.append(new_square)\n",
        "    \n",
        "# Show that our list is correct.\n",
        "for square in squares:\n",
        "    print(square)"
      ],
      "metadata": {
        "colab": {
          "base_uri": "https://localhost:8080/"
        },
        "id": "I3Aco1gl9g0v",
        "outputId": "abc6a657-46c9-49e8-8fcf-de94aa49cb12"
      },
      "execution_count": null,
      "outputs": [
        {
          "output_type": "stream",
          "name": "stdout",
          "text": [
            "1\n",
            "4\n",
            "9\n",
            "16\n",
            "25\n",
            "36\n",
            "49\n",
            "64\n",
            "81\n",
            "100\n"
          ]
        }
      ]
    },
    {
      "cell_type": "code",
      "source": [
        "# Store the first ten square numbers in a list.\n",
        "# Make an empty list that will hold our square numbers.\n",
        "squares = []\n",
        "\n",
        "# Go through the first ten numbers, square them, and add them to our list.\n",
        "for number in range(1,11):\n",
        "    squares.append(number**2)\n",
        "    \n",
        "# Show that our list is correct.\n",
        "for square in squares:\n",
        "    print(square)"
      ],
      "metadata": {
        "colab": {
          "base_uri": "https://localhost:8080/"
        },
        "id": "hWl1A6-s9g3H",
        "outputId": "49e7db8e-0717-4eb6-e151-054a84476485"
      },
      "execution_count": null,
      "outputs": [
        {
          "output_type": "stream",
          "name": "stdout",
          "text": [
            "1\n",
            "4\n",
            "9\n",
            "16\n",
            "25\n",
            "36\n",
            "49\n",
            "64\n",
            "81\n",
            "100\n"
          ]
        }
      ]
    },
    {
      "cell_type": "code",
      "source": [
        "# Store the first ten square numbers in a list.\n",
        "squares = [number**2 for number in range(1,11)]\n",
        "\n",
        "# Show that our list is correct.\n",
        "for square in squares:\n",
        "    print(square)"
      ],
      "metadata": {
        "colab": {
          "base_uri": "https://localhost:8080/"
        },
        "id": "x7BPv6v_9g6p",
        "outputId": "df553fdb-ba9d-4e7e-f447-f3f5936fb77d"
      },
      "execution_count": null,
      "outputs": [
        {
          "output_type": "stream",
          "name": "stdout",
          "text": [
            "1\n",
            "4\n",
            "9\n",
            "16\n",
            "25\n",
            "36\n",
            "49\n",
            "64\n",
            "81\n",
            "100\n"
          ]
        }
      ]
    },
    {
      "cell_type": "code",
      "source": [
        "# Make a list of the first ten even numbers. # Or make a table of 2\n",
        "evens = [number*2 for number in range(1,11)]\n",
        "\n",
        "for even in evens:\n",
        "    print(even)"
      ],
      "metadata": {
        "colab": {
          "base_uri": "https://localhost:8080/"
        },
        "id": "RKyprbh29g_R",
        "outputId": "217c3ee7-10a9-488b-fd23-93a7a0904211"
      },
      "execution_count": null,
      "outputs": [
        {
          "output_type": "stream",
          "name": "stdout",
          "text": [
            "2\n",
            "4\n",
            "6\n",
            "8\n",
            "10\n",
            "12\n",
            "14\n",
            "16\n",
            "18\n",
            "20\n"
          ]
        }
      ]
    },
    {
      "cell_type": "markdown",
      "source": [
        "### Non-numerical comprehensions"
      ],
      "metadata": {
        "id": "UipVoxrmD7q1"
      }
    },
    {
      "cell_type": "code",
      "source": [
        "# Consider some students.\n",
        "students = ['bernice', 'aaron', 'cody']\n",
        "\n",
        "# Let's turn them into great students.\n",
        "great_students = []\n",
        "for student in students:\n",
        "    great_students.append(student.title() + \" the great!\")\n",
        "\n",
        "# Let's greet each great student.\n",
        "for great_student in great_students:\n",
        "    print(\"Hello, \" + great_student)"
      ],
      "metadata": {
        "colab": {
          "base_uri": "https://localhost:8080/"
        },
        "id": "RN4vX7dc9hA5",
        "outputId": "ccfd7f5b-f54c-4ae8-e204-c591e828e9f8"
      },
      "execution_count": null,
      "outputs": [
        {
          "output_type": "stream",
          "name": "stdout",
          "text": [
            "Hello, Bernice the great!\n",
            "Hello, Aaron the great!\n",
            "Hello, Cody the great!\n"
          ]
        }
      ]
    },
    {
      "cell_type": "code",
      "source": [
        "# Consider some students.\n",
        "students = ['bernice', 'aaron', 'cody']\n",
        "\n",
        "# Let's turn them into great students.\n",
        "great_students = [student.title() + \" the great!\" for student in students]\n",
        "\n",
        "# Let's greet each great student.\n",
        "for great_student in great_students:\n",
        "    print(\"Hello, \" + great_student)"
      ],
      "metadata": {
        "colab": {
          "base_uri": "https://localhost:8080/"
        },
        "id": "0PceJ3VeED7m",
        "outputId": "0c7d5ab6-9a63-4402-aefe-9a1f5f495f4e"
      },
      "execution_count": null,
      "outputs": [
        {
          "output_type": "stream",
          "name": "stdout",
          "text": [
            "Hello, Bernice the great!\n",
            "Hello, Aaron the great!\n",
            "Hello, Cody the great!\n"
          ]
        }
      ]
    },
    {
      "cell_type": "markdown",
      "source": [
        "### One more Example"
      ],
      "metadata": {
        "id": "7uPPOAtSEfRE"
      }
    },
    {
      "cell_type": "code",
      "source": [
        "# shopping cart full of numbers (a Python list of numbers)\n",
        "cart = [5, 7, 9, 10, 12, 15, 19, 20, 22]"
      ],
      "metadata": {
        "id": "nJgZLC5DED-h"
      },
      "execution_count": null,
      "outputs": []
    },
    {
      "cell_type": "code",
      "source": [
        "# Only give cashier 4 odd numbers over 100\n",
        "cashier_4 = []\n",
        "for item in cart:\n",
        "    item += 100 # add 100 to each item to bring them over 100\n",
        "    if item % 2 == 1: # check to see if they're odd or not\n",
        "        cashier_4.append(item)\n",
        "print(cashier_4)"
      ],
      "metadata": {
        "colab": {
          "base_uri": "https://localhost:8080/"
        },
        "id": "EzXRSHVAEECq",
        "outputId": "1ed43d6e-6c1c-4915-a569-769a70fea3ee"
      },
      "execution_count": null,
      "outputs": [
        {
          "output_type": "stream",
          "name": "stdout",
          "text": [
            "[105, 107, 109, 115, 119]\n"
          ]
        }
      ]
    },
    {
      "cell_type": "code",
      "source": [
        "# TODO: Turn the cashier_4 code above into a list comprehension\n",
        "cashier_4 = [item+100 for item in cart if item % 2 != 0]\n",
        "print(cashier_4)"
      ],
      "metadata": {
        "colab": {
          "base_uri": "https://localhost:8080/"
        },
        "id": "kQzhFw8DEsQn",
        "outputId": "6bc66fac-9ee7-4dd5-ecf5-7c37de4025d8"
      },
      "execution_count": null,
      "outputs": [
        {
          "output_type": "stream",
          "name": "stdout",
          "text": [
            "[105, 107, 109, 115, 119]\n"
          ]
        }
      ]
    },
    {
      "cell_type": "code",
      "source": [
        "#Let's compare two differnt shopping carts.\n",
        "cart_1 = [1, 8, 29, 34, 58, 74, 88, 99]\n",
        "cart_2 = [3, 8, 31, 36, 58, 77, 88, 93]"
      ],
      "metadata": {
        "id": "cI8_fp9iE33X"
      },
      "execution_count": null,
      "outputs": []
    },
    {
      "cell_type": "code",
      "source": [
        "# Non-list comprehension version\n",
        "cashier_5 = []\n",
        "for item in cart_1:\n",
        "    if item in cart_2:\n",
        "        cashier_5.append(item)\n",
        "print(cashier_5)"
      ],
      "metadata": {
        "colab": {
          "base_uri": "https://localhost:8080/"
        },
        "id": "VV2qLns0E6iw",
        "outputId": "2d523059-e66f-48f0-f15e-99a320228a4e"
      },
      "execution_count": null,
      "outputs": [
        {
          "output_type": "stream",
          "name": "stdout",
          "text": [
            "[8, 58, 88]\n"
          ]
        }
      ]
    },
    {
      "cell_type": "code",
      "source": [
        "# List comprehension version\n",
        "cashier_5 = [item for item in cart_1 if item in cart_2]\n",
        "cashier_5"
      ],
      "metadata": {
        "colab": {
          "base_uri": "https://localhost:8080/"
        },
        "id": "Rf7R69FbE6k_",
        "outputId": "56682eb7-8002-476f-ea27-f14073d03046"
      },
      "execution_count": null,
      "outputs": [
        {
          "output_type": "execute_result",
          "data": {
            "text/plain": [
              "[8, 58, 88]"
            ]
          },
          "metadata": {},
          "execution_count": 140
        }
      ]
    },
    {
      "cell_type": "markdown",
      "source": [
        "### Challenge time!"
      ],
      "metadata": {
        "id": "yLqcBNqsFGB8"
      }
    },
    {
      "cell_type": "code",
      "source": [
        "# Without list comprehension\n",
        "cashier_6 = []\n",
        "for item_1, item_2 in zip(cart_1, cart_2):\n",
        "    cashier_6.append(item_1 + item_2)\n",
        "print(cashier_6)"
      ],
      "metadata": {
        "colab": {
          "base_uri": "https://localhost:8080/"
        },
        "id": "Kas12yucFLPu",
        "outputId": "1398cda5-98ce-4a65-fd01-352b1420955b"
      },
      "execution_count": null,
      "outputs": [
        {
          "output_type": "stream",
          "name": "stdout",
          "text": [
            "[4, 16, 60, 70, 116, 151, 176, 192]\n"
          ]
        }
      ]
    },
    {
      "cell_type": "code",
      "source": [
        "print(cart_1)\n",
        "print(cart_2)"
      ],
      "metadata": {
        "colab": {
          "base_uri": "https://localhost:8080/"
        },
        "id": "CL_t2ThnFLSl",
        "outputId": "1182cfea-cee6-49bd-f19a-a4063d152a94"
      },
      "execution_count": null,
      "outputs": [
        {
          "output_type": "stream",
          "name": "stdout",
          "text": [
            "[1, 8, 29, 34, 58, 74, 88, 99]\n",
            "[3, 8, 31, 36, 58, 77, 88, 93]\n"
          ]
        }
      ]
    },
    {
      "cell_type": "code",
      "source": [
        "cart_3 = list(zip(cart_1, cart_2))\n",
        "print(cart_3)\n"
      ],
      "metadata": {
        "colab": {
          "base_uri": "https://localhost:8080/"
        },
        "id": "_g8dZ7DuFLVJ",
        "outputId": "1f621cbd-408c-465b-bf2a-7587b2457d51"
      },
      "execution_count": null,
      "outputs": [
        {
          "output_type": "stream",
          "name": "stdout",
          "text": [
            "[(1, 3), (8, 8), (29, 31), (34, 36), (58, 58), (74, 77), (88, 88), (99, 93)]\n"
          ]
        }
      ]
    },
    {
      "cell_type": "code",
      "source": [
        "cart_4 = [item[0]+item[1] for item in cart_3 ]\n",
        "print(cart_4)"
      ],
      "metadata": {
        "colab": {
          "base_uri": "https://localhost:8080/"
        },
        "id": "95daWWYYFZPL",
        "outputId": "ed06e4da-1196-41d6-b78e-1d67ef3be948"
      },
      "execution_count": null,
      "outputs": [
        {
          "output_type": "stream",
          "name": "stdout",
          "text": [
            "[4, 16, 60, 70, 116, 151, 176, 192]\n"
          ]
        }
      ]
    },
    {
      "cell_type": "code",
      "source": [
        "min([\"Ar\",\"ar\"])"
      ],
      "metadata": {
        "colab": {
          "base_uri": "https://localhost:8080/",
          "height": 35
        },
        "id": "xF5lwdCe1Ocf",
        "outputId": "530ae744-2320-472f-df0b-e79ab8b205aa"
      },
      "execution_count": null,
      "outputs": [
        {
          "output_type": "execute_result",
          "data": {
            "text/plain": [
              "'Ar'"
            ],
            "application/vnd.google.colaboratory.intrinsic+json": {
              "type": "string"
            }
          },
          "metadata": {},
          "execution_count": 180
        }
      ]
    },
    {
      "cell_type": "code",
      "source": [],
      "metadata": {
        "id": "uEHvN8wq1Rtj"
      },
      "execution_count": null,
      "outputs": []
    }
  ]
}