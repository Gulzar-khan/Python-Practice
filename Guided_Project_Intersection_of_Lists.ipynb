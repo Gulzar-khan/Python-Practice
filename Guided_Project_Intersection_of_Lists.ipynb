{
  "nbformat": 4,
  "nbformat_minor": 0,
  "metadata": {
    "kernelspec": {
      "display_name": "Python 3",
      "language": "python",
      "name": "python3"
    },
    "language_info": {
      "codemirror_mode": {
        "name": "ipython",
        "version": 3
      },
      "file_extension": ".py",
      "mimetype": "text/x-python",
      "name": "python",
      "nbconvert_exporter": "python",
      "pygments_lexer": "ipython3",
      "version": "3.7.1"
    },
    "colab": {
      "provenance": []
    }
  },
  "cells": [
    {
      "cell_type": "markdown",
      "metadata": {
        "id": "rtBrwN-Aexbo"
      },
      "source": [
        "Given a list of n lists, write a function which returns the intersection of all the n lists. Each list can have any number of elements.\n",
        "\n",
        "Example 1:\n",
        "\n",
        "```\n",
        "input = [[5, 5, 5, 8, 10], \n",
        "      [5, 5, 7, 8], \n",
        "      [5, 5, 8, 9, 11]]\n",
        "```\n",
        "\n",
        "```\n",
        "output = [5, 5, 8]\n",
        "```\n",
        "\n",
        "Example 2:\n",
        "\n",
        "```\n",
        "input = [[5, 6], \n",
        "      [5, 5, 7, 8], \n",
        "      [5, 5, 8, 9]]\n",
        "```\n",
        "\n",
        "\n",
        "```\n",
        "output = [5]\n",
        "```"
      ]
    },
    {
      "cell_type": "code",
      "source": [
        "def findElements(nested_list):\n",
        "    l1=nested_list[0]\n",
        "    l2=nested_list[1]\n",
        "    l3=nested_list[2]\n",
        "    # for i in nested_list:\n",
        "    #   if i==nested_list[0]:\n",
        "    #     l1.append(i)\n",
        "    #   elif i==nested_list[1]:\n",
        "    #     l2.append(i)\n",
        "    #   elif i==nested_list[2]:\n",
        "    #     l3.append(i)\n",
        "    s1=set(l1)\n",
        "    s2=set(l2)\n",
        "    s3=set(l3)\n",
        "    set1=s1.intersection(s2)\n",
        "    result=set1.intersection(s3)\n",
        "    final=[i for i in result]\n",
        "    return final\n",
        "    \n"
      ],
      "metadata": {
        "id": "RdIdDC5A5vob"
      },
      "execution_count": null,
      "outputs": []
    },
    {
      "cell_type": "code",
      "source": [
        "nested_list=[[5,5,5,8,10],[5,5,7,8],[5,5,8,9,11]]\n",
        "print(findElements(nested_list))"
      ],
      "metadata": {
        "colab": {
          "base_uri": "https://localhost:8080/"
        },
        "id": "OeFbSi35A70_",
        "outputId": "579d4ede-8b64-4e21-e0c0-91a00c34e466"
      },
      "execution_count": null,
      "outputs": [
        {
          "output_type": "stream",
          "name": "stdout",
          "text": [
            "[8, 5]\n"
          ]
        }
      ]
    },
    {
      "cell_type": "code",
      "source": [
        "input = [[5, 6], [5, 5, 7, 8],[5, 5, 8, 9]]\n",
        "findElements(input)"
      ],
      "metadata": {
        "colab": {
          "base_uri": "https://localhost:8080/"
        },
        "id": "Pqsu77ClIago",
        "outputId": "3ff233ec-d810-41eb-897b-d82ec0415ec4"
      },
      "execution_count": null,
      "outputs": [
        {
          "output_type": "execute_result",
          "data": {
            "text/plain": [
              "[5]"
            ]
          },
          "metadata": {},
          "execution_count": 149
        }
      ]
    }
  ]
}