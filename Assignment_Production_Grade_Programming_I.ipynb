{
  "nbformat": 4,
  "nbformat_minor": 0,
  "metadata": {
    "kernelspec": {
      "display_name": "Python 3",
      "language": "python",
      "name": "python3"
    },
    "language_info": {
      "codemirror_mode": {
        "name": "ipython",
        "version": 3
      },
      "file_extension": ".py",
      "mimetype": "text/x-python",
      "name": "python",
      "nbconvert_exporter": "python",
      "pygments_lexer": "ipython3",
      "version": "3.7.4"
    },
    "colab": {
      "provenance": []
    }
  },
  "cells": [
    {
      "cell_type": "markdown",
      "metadata": {
        "id": "8WbUJEVzs8Bx"
      },
      "source": [
        "## <u>While doing this assignment only use those concepts which have been taught till now</u>"
      ]
    },
    {
      "cell_type": "markdown",
      "metadata": {
        "id": "77zLnpaNvNSp"
      },
      "source": [
        "# <u> Problem 1</u>\n",
        "\n",
        "### Create a class <code>Cylinder</code> which takes two attributes <code>radius</code> and <code>height</code>.\n",
        "\n",
        "### Create the following methods in this class:\n",
        "\n",
        "* ### method <code>volume()</code> which calculates the volume of the cyinder which is defined as $V  = \\pi r^2 h$\n",
        "\n",
        "* ### method <code>surface_area()</code> which calculates the area of the cyinder which is defined as $S  = 2\\pi r h$. Assume this is an open cylinder\n"
      ]
    },
    {
      "cell_type": "code",
      "metadata": {
        "id": "-cWkCZ5OzX0G"
      },
      "source": [
        "# Write your code below. Take pi as 3.14\n",
        "class Cylinder:\n",
        "  def __init__(self, radius, height):\n",
        "    self.radius= radius\n",
        "    self.height=height\n",
        "  def volume(self):\n",
        "    return 3.14*((self.radius)**2)*self.height\n",
        "  def surface_area(self):\n",
        "    return 2*3.14*(self.radius)*self.height"
      ],
      "execution_count": null,
      "outputs": []
    },
    {
      "cell_type": "code",
      "metadata": {
        "id": "tgS3mhN-18b_",
        "colab": {
          "base_uri": "https://localhost:8080/"
        },
        "outputId": "74ed329a-bae6-41c4-ed01-74067b2c9946"
      },
      "source": [
        "# Check for sample inputs\n",
        "sample=Cylinder(3,4)\n",
        "print(sample.volume())\n",
        "print(sample.surface_area())"
      ],
      "execution_count": null,
      "outputs": [
        {
          "output_type": "stream",
          "name": "stdout",
          "text": [
            "113.04\n",
            "75.36\n"
          ]
        }
      ]
    },
    {
      "cell_type": "markdown",
      "metadata": {
        "id": "KjPWYK0Rs8By"
      },
      "source": [
        "## <u>Problem 2</u>\n",
        "\n",
        "### You started your own money wallet where your customers can create their accounts and they can either deposit or withdraw money from this wallet.\n",
        "\n",
        "### Write a Python class <code>BankAccount</code> which takes the balance as an attribute. You can initialize the balance with 0 because any new account will have 0 rupees in their wallet. Next write two methods for your class :\n",
        "\n",
        "* #### <code>withdraw()</code> method which takes the amount to be withdrawn as an argument and returns the balance after the withdrawal\n",
        "\n",
        "* #### <code>deposit()</code> method which takes the amount to be deposited as an argument and returns the balance after the deposit.\n",
        "\n",
        "### Keep in mind that if the balance to be withdrawn exceeds the current balance, it should display a message that \"Not enough balance in your account\"\n"
      ]
    },
    {
      "cell_type": "code",
      "source": [],
      "metadata": {
        "id": "mBdEee3O1a4x"
      },
      "execution_count": null,
      "outputs": []
    },
    {
      "cell_type": "code",
      "metadata": {
        "id": "RxVZTrenzfHC"
      },
      "source": [
        "# Write your BankAccount class below \n",
        "\n",
        "class BankAccount:\n",
        "  def __init__(self,balance=0):\n",
        "    self.balance=balance\n",
        "  def deposit(self,bal1):\n",
        "    self.balance=self.balance+bal1\n",
        "    return self.balance\n",
        "  def withdraw(self,bal2):\n",
        "    if bal2>self.balance:\n",
        "      return \"Not enough balance in your account\"\n",
        "    else:\n",
        "      self.balance=self.balance-bal2\n",
        "      return self.balance"
      ],
      "execution_count": null,
      "outputs": []
    },
    {
      "cell_type": "code",
      "metadata": {
        "id": "N1Yhpkiws8B3",
        "colab": {
          "base_uri": "https://localhost:8080/"
        },
        "outputId": "c06a90ba-4251-48ba-f682-753b77a47368"
      },
      "source": [
        "# Create two instances of this class for two customers\n",
        "account1=BankAccount()\n",
        "amount_after_deposit=account1.deposit(50)\n",
        "amount_after_withdrawal=account1.withdraw(20)\n",
        "print(amount_after_deposit)\n",
        "print(amount_after_withdrawal)"
      ],
      "execution_count": null,
      "outputs": [
        {
          "output_type": "stream",
          "name": "stdout",
          "text": [
            "50\n",
            "30\n"
          ]
        }
      ]
    },
    {
      "cell_type": "markdown",
      "metadata": {
        "id": "mSTxPcO3fWeX"
      },
      "source": [
        "### Next add some amount and withdraw some another amount for both the customers."
      ]
    },
    {
      "cell_type": "code",
      "metadata": {
        "id": "KpMdlB5Fs8B8",
        "colab": {
          "base_uri": "https://localhost:8080/"
        },
        "outputId": "5650afac-12a1-4a7f-9c33-53f4112beb8c"
      },
      "source": [
        "# Deposit some amount and withdrawing some amount from the two accounts and check if your method works fine\n",
        "\n",
        "account2=BankAccount()\n",
        "amount_after_deposit=account2.deposit(500)\n",
        "amount_after_withdrawal=account2.withdraw(120)\n",
        "print(amount_after_deposit)\n",
        "print(amount_after_withdrawal)"
      ],
      "execution_count": null,
      "outputs": [
        {
          "output_type": "stream",
          "name": "stdout",
          "text": [
            "500\n",
            "380\n"
          ]
        }
      ]
    },
    {
      "cell_type": "markdown",
      "metadata": {
        "id": "5qd8g8UUs8CM"
      },
      "source": [
        "## <u>Problem 3 </u>\n",
        "\n",
        "### Create a class <code>Time </code> which takes two inputs hours and minutes to instantiate.\n",
        "*  #### Construct a method <code>DisplayTime()</code> which displays the time in AM/PM formats. For example if the input is 14 hours and 45 mins, then this method will print \"The time is 2:45 PM\". If the inputted hours exceeds 23 then print the message \"The input hours should be less than 24\" and if the inputted minutes exceeds 59 then print the message \"The input minutes should be less than 60.\" Also if the input is 12 hours 30 minutes, then the displayed time would be 12:30 PM\n",
        "* #### Construct a method <code>DisplayRatio()</code> which should display the ratio of minutes to hours. For example, (8 hours and  16 mins) should display 2. Use <code>try</code>, <code>except</code> block to account for ZeroDivisionError."
      ]
    },
    {
      "cell_type": "code",
      "metadata": {
        "id": "FBJy9Sq_s8CN"
      },
      "source": [
        "class Time:\n",
        "  def __init__(self,hours=0,minutes=0):\n",
        "    self.hours=hours\n",
        "    self.minutes=minutes\n",
        "  def DisplayTime(self):\n",
        "    if self.minutes<60:\n",
        "        if self.hours>12 and self.hours<24:\n",
        "          self.hours=self.hours-12\n",
        "          return (f\"The time is {self.hours}:{self.minutes} PM\")\n",
        "        elif self.hours>23:\n",
        "          return (f\"The input hours should be less than 24\")\n",
        "        else:\n",
        "          return (f\"The time is {self.hours}:{self.minutes} AM\")\n",
        "    else:\n",
        "      return \"The input minutes should be less than 60\"\n",
        "\n",
        "  \n",
        "  def DisplayRatio(self):\n",
        "    try:\n",
        "      self.minutes=self.minutes/self.hours\n",
        "      return (f\"Ratio of minutes to hours is {self.minutes}\")\n",
        "    except:\n",
        "      return \"ZeroDivisionError\""
      ],
      "execution_count": null,
      "outputs": []
    },
    {
      "cell_type": "code",
      "metadata": {
        "id": "zywXa51d6Eev",
        "colab": {
          "base_uri": "https://localhost:8080/"
        },
        "outputId": "6f24d869-f4bc-4956-a45b-343c220fc8ed"
      },
      "source": [
        "# Check for few sample inputs of hours and mins\n",
        "hour_min_list = [(23,45), (34,50), (12,34), (14,67),(19,20), (2,15), (0, 10)]\n",
        "\n",
        "# Using a for loop display the corresponding 12 hour time format for the above hour_min_list\n",
        "time_format=[Time(t1,t2).DisplayTime() for t1,t2 in hour_min_list]\n",
        "\n",
        "print(time_format)\n",
        "\n",
        "\n",
        "\n",
        "# Also display the corresponding ratios for the above list\n",
        "\n",
        "ratio=[Time(t1,t2).DisplayRatio() for t1,t2 in hour_min_list]\n",
        "print(ratio)\n"
      ],
      "execution_count": null,
      "outputs": [
        {
          "output_type": "stream",
          "name": "stdout",
          "text": [
            "['The time is 11:45 PM', 'The input hours should be less than 24', 'The time is 12:34 AM', 'The input minutes should be less than 60', 'The time is 7:20 PM', 'The time is 2:15 AM', 'The time is 0:10 AM']\n",
            "['Ratio of minutes to hours is 1.9565217391304348', 'Ratio of minutes to hours is 1.4705882352941178', 'Ratio of minutes to hours is 2.8333333333333335', 'Ratio of minutes to hours is 4.785714285714286', 'Ratio of minutes to hours is 1.0526315789473684', 'Ratio of minutes to hours is 7.5', 'ZeroDivisionError']\n"
          ]
        }
      ]
    },
    {
      "cell_type": "code",
      "metadata": {
        "id": "mgcu1_SAjAqF"
      },
      "source": [],
      "execution_count": null,
      "outputs": []
    }
  ]
}