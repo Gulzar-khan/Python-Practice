{
  "nbformat": 4,
  "nbformat_minor": 0,
  "metadata": {
    "colab": {
      "provenance": [],
      "include_colab_link": true
    },
    "kernelspec": {
      "name": "python3",
      "display_name": "Python 3"
    },
    "language_info": {
      "name": "python"
    }
  },
  "cells": [
    {
      "cell_type": "markdown",
      "metadata": {
        "id": "view-in-github",
        "colab_type": "text"
      },
      "source": [
        "<a href=\"https://colab.research.google.com/github/Gulzar-khan/Python-Practice/blob/main/Copy_of_Copy_of_Cosine_Similarity_in_Action!.ipynb\" target=\"_parent\"><img src=\"https://colab.research.google.com/assets/colab-badge.svg\" alt=\"Open In Colab\"/></a>"
      ]
    },
    {
      "cell_type": "markdown",
      "source": [
        "https://colab.research.google.com/drive/1VgIzmFrSmVvIeVeaiCWymoaJ-7qNJCJl?usp=sharing"
      ],
      "metadata": {
        "id": "mIhVKjFGwFT2"
      }
    },
    {
      "cell_type": "code",
      "source": [],
      "metadata": {
        "id": "1qJJnl5E1KMY"
      },
      "execution_count": null,
      "outputs": []
    },
    {
      "cell_type": "code",
      "source": [
        "\n",
        "!pip install wikipedia"
      ],
      "metadata": {
        "colab": {
          "base_uri": "https://localhost:8080/"
        },
        "id": "16qDD47W1_zk",
        "outputId": "1328dd0d-aeaf-4c5a-f150-84683bf2cc5d"
      },
      "execution_count": null,
      "outputs": [
        {
          "output_type": "stream",
          "name": "stdout",
          "text": [
            "Looking in indexes: https://pypi.org/simple, https://us-python.pkg.dev/colab-wheels/public/simple/\n",
            "Collecting wikipedia\n",
            "  Downloading wikipedia-1.4.0.tar.gz (27 kB)\n",
            "  Preparing metadata (setup.py) ... \u001b[?25l\u001b[?25hdone\n",
            "Requirement already satisfied: beautifulsoup4 in /usr/local/lib/python3.8/dist-packages (from wikipedia) (4.6.3)\n",
            "Requirement already satisfied: requests<3.0.0,>=2.0.0 in /usr/local/lib/python3.8/dist-packages (from wikipedia) (2.25.1)\n",
            "Requirement already satisfied: chardet<5,>=3.0.2 in /usr/local/lib/python3.8/dist-packages (from requests<3.0.0,>=2.0.0->wikipedia) (4.0.0)\n",
            "Requirement already satisfied: certifi>=2017.4.17 in /usr/local/lib/python3.8/dist-packages (from requests<3.0.0,>=2.0.0->wikipedia) (2022.12.7)\n",
            "Requirement already satisfied: idna<3,>=2.5 in /usr/local/lib/python3.8/dist-packages (from requests<3.0.0,>=2.0.0->wikipedia) (2.10)\n",
            "Requirement already satisfied: urllib3<1.27,>=1.21.1 in /usr/local/lib/python3.8/dist-packages (from requests<3.0.0,>=2.0.0->wikipedia) (1.24.3)\n",
            "Building wheels for collected packages: wikipedia\n",
            "  Building wheel for wikipedia (setup.py) ... \u001b[?25l\u001b[?25hdone\n",
            "  Created wheel for wikipedia: filename=wikipedia-1.4.0-py3-none-any.whl size=11695 sha256=01f4c9734a134fd1ebf6628b93c2cd066fa530c86911820ef5e9d84d57f316db\n",
            "  Stored in directory: /root/.cache/pip/wheels/07/93/05/72c05349177dca2e0ba31a33ba4f7907606f7ddef303517c6a\n",
            "Successfully built wikipedia\n",
            "Installing collected packages: wikipedia\n",
            "Successfully installed wikipedia-1.4.0\n"
          ]
        }
      ]
    },
    {
      "cell_type": "code",
      "execution_count": null,
      "metadata": {
        "colab": {
          "base_uri": "https://localhost:8080/"
        },
        "id": "c9pYqVEu1sOA",
        "outputId": "e1b5d8d1-902c-4ca8-d68f-514d8dadaf63"
      },
      "outputs": [
        {
          "output_type": "stream",
          "name": "stdout",
          "text": [
            "NLP \t 4670 \n",
            "AI \t 10759 \n",
            "soccer \t 6708 \n",
            "cricket  8889\n"
          ]
        }
      ],
      "source": [
        "import wikipedia\n",
        "import numpy as np\n",
        "\n",
        "q1 = wikipedia.page(\"Natural Language Processing\")\n",
        "q2 = wikipedia.page('Artifical Intelligence')\n",
        "q3 = wikipedia.page('Soccer')\n",
        "q4 = wikipedia.page('Cricket')\n",
        "\n",
        "from sklearn.feature_extraction.text import CountVectorizer\n",
        "\n",
        "def euclidean_distance(x, y):   \n",
        "    return np.sqrt(np.sum((x - y) ** 2))\n",
        "\n",
        "def cosine_similarity(x, y):\n",
        "    return np.dot(x, y) / (np.sqrt(np.dot(x, x)) * np.sqrt(np.dot(y, y)))\n",
        "\n",
        "cv = CountVectorizer()\n",
        "X = np.array(cv.fit_transform([q1.content, q2.content, q3.content, q4.content]).todense())\n",
        "\n",
        "print(\"NLP \\t\", len(q1.content.split()), \"\\n\"\n",
        "      \"AI \\t\", len(q2.content.split()), \"\\n\"\n",
        "      \"soccer \\t\", len(q3.content.split()), \"\\n\"\n",
        "      \"cricket \", len(q4.content.split()))\n"
      ]
    },
    {
      "cell_type": "code",
      "source": [
        "X"
      ],
      "metadata": {
        "colab": {
          "base_uri": "https://localhost:8080/"
        },
        "id": "xdRyQEkn51EO",
        "outputId": "71276cc4-2929-4558-a9d5-9b0271443ff4"
      },
      "execution_count": null,
      "outputs": [
        {
          "output_type": "execute_result",
          "data": {
            "text/plain": [
              "array([[0, 1, 1, ..., 0, 0, 0],\n",
              "       [1, 0, 0, ..., 0, 2, 0],\n",
              "       [2, 0, 0, ..., 1, 0, 1],\n",
              "       [0, 0, 0, ..., 0, 0, 0]])"
            ]
          },
          "metadata": {},
          "execution_count": 3
        }
      ]
    },
    {
      "cell_type": "code",
      "source": [
        "print(\"NLP - AI \\t\", euclidean_distance(X[0], X[1]), \"\\n\"\n",
        "      \"NLP - soccer \\t\", euclidean_distance(X[0], X[2]), \"\\n\"\n",
        "      \"NLP - cricket \\t\", euclidean_distance(X[0], X[3]))"
      ],
      "metadata": {
        "colab": {
          "base_uri": "https://localhost:8080/"
        },
        "id": "-f--RWcQ11N2",
        "outputId": "18dc2723-3a1c-4edb-9ad9-31fe9c0f00c7"
      },
      "execution_count": null,
      "outputs": [
        {
          "output_type": "stream",
          "name": "stdout",
          "text": [
            "NLP - AI \t 615.3958075905294 \n",
            "NLP - soccer \t 471.74251451400903 \n",
            "NLP - cricket \t 714.8433394807564\n"
          ]
        }
      ]
    },
    {
      "cell_type": "code",
      "source": [
        "print(\"NLP - AI \\t\", cosine_similarity(X[0], X[1]), \"\\n\"\n",
        "      \"NLP - soccer \\t\", cosine_similarity(X[0], X[2]), \"\\n\"\n",
        "      \"NLP - cricket \\t\", cosine_similarity(X[0], X[3]))"
      ],
      "metadata": {
        "colab": {
          "base_uri": "https://localhost:8080/"
        },
        "id": "Y8K2V1Yt3QqX",
        "outputId": "a3df8d5e-245d-4ef9-a48d-9bc9099f8b07"
      },
      "execution_count": null,
      "outputs": [
        {
          "output_type": "stream",
          "name": "stdout",
          "text": [
            "NLP - AI \t 0.8885992364374213 \n",
            "NLP - soccer \t 0.8364363947994737 \n",
            "NLP - cricket \t 0.8407491125829665\n"
          ]
        }
      ]
    },
    {
      "cell_type": "code",
      "source": [
        "so_tweet = \"#LegendsDownUnder The Reds are out for the warm up at the @nibStadium. Not long now until kick-off in Perth.\"\n",
        "x2 = np.array(cv.transform([so_tweet]).todense())[0]"
      ],
      "metadata": {
        "id": "KK8i-8SP3xl4"
      },
      "execution_count": null,
      "outputs": []
    },
    {
      "cell_type": "code",
      "source": [
        "print(\"tweet - ML \\t\", euclidean_distance(x2, X[0]), \"\\n\"\n",
        "      \"tweet - AI \\t\", euclidean_distance(x2, X[1]), \"\\n\"\n",
        "      \"tweet - soccer \\t\", euclidean_distance(x2, X[2]), \"\\n\"\n",
        "      \"tweet - tennis \\t\", euclidean_distance(x2, X[3]))"
      ],
      "metadata": {
        "colab": {
          "base_uri": "https://localhost:8080/"
        },
        "id": "wYXcrVF05Yeq",
        "outputId": "36c49c0e-b246-4195-d34e-8ba6927a6760"
      },
      "execution_count": null,
      "outputs": [
        {
          "output_type": "stream",
          "name": "stdout",
          "text": [
            "tweet - ML \t 420.3165473782825 \n",
            "tweet - AI \t 957.2638089889327 \n",
            "tweet - soccer \t 761.4689750738371 \n",
            "tweet - tennis \t 1029.5761263743443\n"
          ]
        }
      ]
    },
    {
      "cell_type": "code",
      "source": [
        "print(\"tweet - ML \\t\", cosine_similarity(x2, X[0]), \"\\n\"\n",
        "      \"tweet - AI \\t\", cosine_similarity(x2, X[1]), \"\\n\"\n",
        "      \"tweet - soccer \\t\", cosine_similarity(x2, X[2]), \"\\n\"\n",
        "      \"tweet - tennis \\t\", cosine_similarity(x2, X[3]))"
      ],
      "metadata": {
        "colab": {
          "base_uri": "https://localhost:8080/"
        },
        "id": "MJVUd7Lc5oR5",
        "outputId": "a5efe246-fe48-43d5-9451-d107e6298a94"
      },
      "execution_count": null,
      "outputs": [
        {
          "output_type": "stream",
          "name": "stdout",
          "text": [
            "tweet - ML \t 0.4587537897124389 \n",
            "tweet - AI \t 0.47440644659548853 \n",
            "tweet - soccer \t 0.6200481510104823 \n",
            "tweet - tennis \t 0.6112474305866877\n"
          ]
        }
      ]
    },
    {
      "cell_type": "code",
      "source": [
        "from sklearn.metrics.pairwise import cosine_similarity\n"
      ],
      "metadata": {
        "id": "T3C_5OXDtfQs"
      },
      "execution_count": null,
      "outputs": []
    },
    {
      "cell_type": "code",
      "source": [
        "cosine_similarity()"
      ],
      "metadata": {
        "id": "q6lxbeaM5ud0",
        "colab": {
          "base_uri": "https://localhost:8080/",
          "height": 328
        },
        "outputId": "faa131e1-9c30-4667-e379-5ec9e5561696"
      },
      "execution_count": null,
      "outputs": [
        {
          "output_type": "error",
          "ename": "ValueError",
          "evalue": "ignored",
          "traceback": [
            "\u001b[0;31m---------------------------------------------------------------------------\u001b[0m",
            "\u001b[0;31mValueError\u001b[0m                                Traceback (most recent call last)",
            "\u001b[0;32m<ipython-input-5-39d86f3b0879>\u001b[0m in \u001b[0;36m<module>\u001b[0;34m\u001b[0m\n\u001b[0;32m----> 1\u001b[0;31m \u001b[0mcosine_similarity\u001b[0m\u001b[0;34m(\u001b[0m\u001b[0;34m'amit'\u001b[0m\u001b[0;34m,\u001b[0m \u001b[0;34m'amita'\u001b[0m\u001b[0;34m)\u001b[0m\u001b[0;34m\u001b[0m\u001b[0;34m\u001b[0m\u001b[0m\n\u001b[0m",
            "\u001b[0;32m/usr/local/lib/python3.7/dist-packages/sklearn/metrics/pairwise.py\u001b[0m in \u001b[0;36mcosine_similarity\u001b[0;34m(X, Y, dense_output)\u001b[0m\n\u001b[1;32m   1249\u001b[0m     \u001b[0;31m# to avoid recursive import\u001b[0m\u001b[0;34m\u001b[0m\u001b[0;34m\u001b[0m\u001b[0;34m\u001b[0m\u001b[0m\n\u001b[1;32m   1250\u001b[0m \u001b[0;34m\u001b[0m\u001b[0m\n\u001b[0;32m-> 1251\u001b[0;31m     \u001b[0mX\u001b[0m\u001b[0;34m,\u001b[0m \u001b[0mY\u001b[0m \u001b[0;34m=\u001b[0m \u001b[0mcheck_pairwise_arrays\u001b[0m\u001b[0;34m(\u001b[0m\u001b[0mX\u001b[0m\u001b[0;34m,\u001b[0m \u001b[0mY\u001b[0m\u001b[0;34m)\u001b[0m\u001b[0;34m\u001b[0m\u001b[0;34m\u001b[0m\u001b[0m\n\u001b[0m\u001b[1;32m   1252\u001b[0m \u001b[0;34m\u001b[0m\u001b[0m\n\u001b[1;32m   1253\u001b[0m     \u001b[0mX_normalized\u001b[0m \u001b[0;34m=\u001b[0m \u001b[0mnormalize\u001b[0m\u001b[0;34m(\u001b[0m\u001b[0mX\u001b[0m\u001b[0;34m,\u001b[0m \u001b[0mcopy\u001b[0m\u001b[0;34m=\u001b[0m\u001b[0;32mTrue\u001b[0m\u001b[0;34m)\u001b[0m\u001b[0;34m\u001b[0m\u001b[0;34m\u001b[0m\u001b[0m\n",
            "\u001b[0;32m/usr/local/lib/python3.7/dist-packages/sklearn/metrics/pairwise.py\u001b[0m in \u001b[0;36mcheck_pairwise_arrays\u001b[0;34m(X, Y, precomputed, dtype, accept_sparse, force_all_finite, copy)\u001b[0m\n\u001b[1;32m    160\u001b[0m             \u001b[0mcopy\u001b[0m\u001b[0;34m=\u001b[0m\u001b[0mcopy\u001b[0m\u001b[0;34m,\u001b[0m\u001b[0;34m\u001b[0m\u001b[0;34m\u001b[0m\u001b[0m\n\u001b[1;32m    161\u001b[0m             \u001b[0mforce_all_finite\u001b[0m\u001b[0;34m=\u001b[0m\u001b[0mforce_all_finite\u001b[0m\u001b[0;34m,\u001b[0m\u001b[0;34m\u001b[0m\u001b[0;34m\u001b[0m\u001b[0m\n\u001b[0;32m--> 162\u001b[0;31m             \u001b[0mestimator\u001b[0m\u001b[0;34m=\u001b[0m\u001b[0mestimator\u001b[0m\u001b[0;34m,\u001b[0m\u001b[0;34m\u001b[0m\u001b[0;34m\u001b[0m\u001b[0m\n\u001b[0m\u001b[1;32m    163\u001b[0m         )\n\u001b[1;32m    164\u001b[0m         Y = check_array(\n",
            "\u001b[0;32m/usr/local/lib/python3.7/dist-packages/sklearn/utils/validation.py\u001b[0m in \u001b[0;36mcheck_array\u001b[0;34m(array, accept_sparse, accept_large_sparse, dtype, order, copy, force_all_finite, ensure_2d, allow_nd, ensure_min_samples, ensure_min_features, estimator)\u001b[0m\n\u001b[1;32m    744\u001b[0m                     \u001b[0marray\u001b[0m \u001b[0;34m=\u001b[0m \u001b[0marray\u001b[0m\u001b[0;34m.\u001b[0m\u001b[0mastype\u001b[0m\u001b[0;34m(\u001b[0m\u001b[0mdtype\u001b[0m\u001b[0;34m,\u001b[0m \u001b[0mcasting\u001b[0m\u001b[0;34m=\u001b[0m\u001b[0;34m\"unsafe\"\u001b[0m\u001b[0;34m,\u001b[0m \u001b[0mcopy\u001b[0m\u001b[0;34m=\u001b[0m\u001b[0;32mFalse\u001b[0m\u001b[0;34m)\u001b[0m\u001b[0;34m\u001b[0m\u001b[0;34m\u001b[0m\u001b[0m\n\u001b[1;32m    745\u001b[0m                 \u001b[0;32melse\u001b[0m\u001b[0;34m:\u001b[0m\u001b[0;34m\u001b[0m\u001b[0;34m\u001b[0m\u001b[0m\n\u001b[0;32m--> 746\u001b[0;31m                     \u001b[0marray\u001b[0m \u001b[0;34m=\u001b[0m \u001b[0mnp\u001b[0m\u001b[0;34m.\u001b[0m\u001b[0masarray\u001b[0m\u001b[0;34m(\u001b[0m\u001b[0marray\u001b[0m\u001b[0;34m,\u001b[0m \u001b[0morder\u001b[0m\u001b[0;34m=\u001b[0m\u001b[0morder\u001b[0m\u001b[0;34m,\u001b[0m \u001b[0mdtype\u001b[0m\u001b[0;34m=\u001b[0m\u001b[0mdtype\u001b[0m\u001b[0;34m)\u001b[0m\u001b[0;34m\u001b[0m\u001b[0;34m\u001b[0m\u001b[0m\n\u001b[0m\u001b[1;32m    747\u001b[0m             \u001b[0;32mexcept\u001b[0m \u001b[0mComplexWarning\u001b[0m \u001b[0;32mas\u001b[0m \u001b[0mcomplex_warning\u001b[0m\u001b[0;34m:\u001b[0m\u001b[0;34m\u001b[0m\u001b[0;34m\u001b[0m\u001b[0m\n\u001b[1;32m    748\u001b[0m                 raise ValueError(\n",
            "\u001b[0;31mValueError\u001b[0m: could not convert string to float: 'amit'"
          ]
        }
      ]
    },
    {
      "cell_type": "markdown",
      "source": [
        "## 2nd example"
      ],
      "metadata": {
        "id": "ZRSIgYQy09l4"
      }
    },
    {
      "cell_type": "code",
      "source": [
        "def cosine_similarity(x,y):\n",
        "    return np.dot(x,y)/( np.sqrt(np.dot(x,x)) * np.sqrt(np.dot(y,y)) )\n",
        "q1 = wikipedia.page('Strawberry')\n",
        "q2 = wikipedia.page('Pineapple')\n",
        "q3 = wikipedia.page('Google')\n",
        "q4 = wikipedia.page('Microsoft')\n",
        "cv = CountVectorizer()\n",
        "X = np.array(cv.fit_transform([q1.content, q2.content, q3.content, q4.content]).todense())\n",
        "print ('Strawberry Pineapple Cosine Distance', cosine_similarity(X[0],X[1]))\n",
        "print ('Strawberry Google Cosine Distance', cosine_similarity(X[0],X[2]))\n",
        "print ('Pineapple Google Cosine Distance', cosine_similarity(X[1],X[2]))\n",
        "print ('Google Microsoft Cosine Distance', cosine_similarity(X[2],X[3]))\n",
        "print ('Pineapple Microsoft Cosine Distance', cosine_similarity(X[1],X[3]))\n"
      ],
      "metadata": {
        "id": "7uHJ6VG3tSYf",
        "colab": {
          "base_uri": "https://localhost:8080/"
        },
        "outputId": "ce2afcb7-b243-4b9c-ae62-1b4152dfb764"
      },
      "execution_count": null,
      "outputs": [
        {
          "output_type": "stream",
          "name": "stdout",
          "text": [
            "Strawberry Pineapple Cosine Distance 0.8811771255083581\n",
            "Google Microsoft Cosine Distance 0.8373689621886554\n",
            "Pineapple Microsoft Cosine Distance 0.8401592129711707\n"
          ]
        }
      ]
    },
    {
      "cell_type": "code",
      "source": [],
      "metadata": {
        "id": "VM9RxQqf1DlZ"
      },
      "execution_count": null,
      "outputs": []
    }
  ]
}