{
  "nbformat": 4,
  "nbformat_minor": 0,
  "metadata": {
    "kernelspec": {
      "display_name": "Python 3",
      "language": "python",
      "name": "python3"
    },
    "language_info": {
      "codemirror_mode": {
        "name": "ipython",
        "version": 3
      },
      "file_extension": ".py",
      "mimetype": "text/x-python",
      "name": "python",
      "nbconvert_exporter": "python",
      "pygments_lexer": "ipython3",
      "version": "3.7.4"
    },
    "colab": {
      "provenance": [],
      "collapsed_sections": []
    }
  },
  "cells": [
    {
      "cell_type": "markdown",
      "metadata": {
        "id": "8WbUJEVzs8Bx"
      },
      "source": [
        "## <u>While doing this assignment only use those concepts which have been taught till now</u>"
      ]
    },
    {
      "cell_type": "markdown",
      "metadata": {
        "id": "KjPWYK0Rs8By"
      },
      "source": [
        "## <u>Problem 1</u>\n",
        "\n",
        "### Another measure of average\n",
        "\n",
        "* Mode is defined as the value that appears most often in a set of data values. Mode corresponds to the most frequent value.\n",
        "* You are given a list of numbers and you need to calculate the mode of this list"
      ]
    },
    {
      "cell_type": "code",
      "metadata": {
        "id": "34TbaGurs8Bz"
      },
      "source": [
        "# A list containing average daily temperature over 10 days\n",
        "temperatures = [34, 40, 29, 33, 42, 40, 39, 34, 34,33 ]"
      ],
      "execution_count": null,
      "outputs": []
    },
    {
      "cell_type": "code",
      "source": [],
      "metadata": {
        "id": "DKYX9Xt6OmR7"
      },
      "execution_count": null,
      "outputs": []
    },
    {
      "cell_type": "code",
      "metadata": {
        "id": "N1Yhpkiws8B3"
      },
      "source": [
        "# Step 1 : Find the unique set of values. Store this in a list\n",
        "unique_temperatures = list(set(temperatures))"
      ],
      "execution_count": null,
      "outputs": []
    },
    {
      "cell_type": "code",
      "metadata": {
        "id": "KpMdlB5Fs8B8",
        "colab": {
          "base_uri": "https://localhost:8080/"
        },
        "outputId": "c449f958-15db-49e8-ec26-bddcca7194ec"
      },
      "source": [
        "# Print the unique temperature list\n",
        "print(unique_temperatures)"
      ],
      "execution_count": null,
      "outputs": [
        {
          "output_type": "stream",
          "name": "stdout",
          "text": [
            "[33, 34, 39, 40, 42, 29]\n"
          ]
        }
      ]
    },
    {
      "cell_type": "code",
      "metadata": {
        "id": "J7CyJi_Ls8B_"
      },
      "source": [
        "# Step 2 : Create an empty dictionary which will contain the unique temperatures as keys and their counts in the original temperatures list as values\n",
        "temp_dict = {}\n",
        "uni_temp_tuple= tuple(unique_temperatures)\n",
        "\n",
        "# Set the values for each key separately\n",
        "# First key\n",
        "key1= uni_temp_tuple[0]\n",
        "value1=temperatures.index(uni_temp_tuple[0])\n",
        "\n",
        "# Second key\n",
        "key2= uni_temp_tuple[1] \n",
        "value2 = temperatures.index(uni_temp_tuple[1])\n",
        "\n",
        "\n",
        "# Third key\n",
        "key3=uni_temp_tuple[2] \n",
        "value3=temperatures.index(uni_temp_tuple[2])\n",
        "\n",
        "\n",
        "# Fourth key\n",
        "key4=uni_temp_tuple[3] \n",
        "value4=temperatures.index(uni_temp_tuple[3])\n",
        "\n",
        "\n",
        "# Fifth key\n",
        "key5=uni_temp_tuple[4] \n",
        "value5=temperatures.index(uni_temp_tuple[4])\n",
        "\n",
        "\n",
        "# Sixth key\n",
        "key6=uni_temp_tuple[5] \n",
        "value6=temperatures.index(uni_temp_tuple[5])"
      ],
      "execution_count": null,
      "outputs": []
    },
    {
      "cell_type": "code",
      "source": [
        "master_dict= {key1:value1,key2:value2,key3:value3,key4:value4,key5:value5,key6:value6}\n",
        "print(master_dict)"
      ],
      "metadata": {
        "id": "brak3GJaMNpV",
        "colab": {
          "base_uri": "https://localhost:8080/"
        },
        "outputId": "829e1a17-799e-4e7f-ed0c-e5f9090777a7"
      },
      "execution_count": null,
      "outputs": [
        {
          "output_type": "stream",
          "name": "stdout",
          "text": [
            "{33: 3, 34: 0, 39: 6, 40: 1, 42: 4, 29: 2}\n"
          ]
        }
      ]
    },
    {
      "cell_type": "code",
      "metadata": {
        "id": "4-ZxbmMxtWfQ",
        "colab": {
          "base_uri": "https://localhost:8080/"
        },
        "outputId": "35bf8e81-f13f-4450-d598-6eeefcfd5cb6"
      },
      "source": [
        "# Step 3: Store the dictionary values in a list\n",
        "temp_dict_frequencies = list(master_dict.values())\n",
        "\n",
        "# Print the list of dictionary values\n",
        "print(temp_dict_frequencies)\n",
        "\n",
        "\n",
        "# Find the index of the most frequent temperature value\n",
        "   #print(\"Mode of List A is % s\" % (max(set(temperatures), key = temperatures.count)))\n",
        "\n",
        "most_frequent_temp = max(set(temperatures), key = temperatures.count) \n",
        "\n",
        "most_frequent_temp_index= temperatures.index(most_frequent_temp)\n",
        "\n",
        "# Print the index\n",
        "print(most_frequent_temp_index)\n",
        "\n"
      ],
      "execution_count": null,
      "outputs": [
        {
          "output_type": "stream",
          "name": "stdout",
          "text": [
            "[3, 0, 6, 1, 4]\n",
            "0\n"
          ]
        }
      ]
    },
    {
      "cell_type": "code",
      "metadata": {
        "id": "riu9mZhcwBY6",
        "colab": {
          "base_uri": "https://localhost:8080/"
        },
        "outputId": "ade5921a-7035-42fd-ff51-ad634ec16c2d"
      },
      "source": [
        "# Step 4 : Create the list of dictionary keys\n",
        "temp_dict_keys = list(master_dict.keys())\n",
        "\n",
        "# Print the list of dictionary keys\n",
        "print(temp_dict_keys)\n",
        "\n",
        "# Calculate the mode temperature\n",
        "mode_temp = most_frequent_temp\n",
        "print(mode_temp)"
      ],
      "execution_count": null,
      "outputs": [
        {
          "output_type": "stream",
          "name": "stdout",
          "text": [
            "[33, 34, 39, 40, 42]\n",
            "34\n"
          ]
        }
      ]
    },
    {
      "cell_type": "code",
      "source": [
        "# OR\n",
        "ttt={unique_temperatures[0]:temperatures.count(unique_temperatures[0]),unique_temperatures[1]:temperatures.count(unique_temperatures[1])\n",
        ",unique_temperatures[2]:temperatures.count(unique_temperatures[2]),unique_temperatures[3]:temperatures.count(unique_temperatures[3])\n",
        ",unique_temperatures[4]:temperatures.count(unique_temperatures[4]),unique_temperatures[5]:temperatures.count(unique_temperatures[5])}\n",
        "ttt"
      ],
      "metadata": {
        "colab": {
          "base_uri": "https://localhost:8080/"
        },
        "id": "sBYj0i6wQcRh",
        "outputId": "18bc1555-1ca8-48e8-968d-a7f04b828613"
      },
      "execution_count": null,
      "outputs": [
        {
          "output_type": "execute_result",
          "data": {
            "text/plain": [
              "{29: 1, 33: 2, 34: 3, 39: 1, 40: 2, 42: 1}"
            ]
          },
          "metadata": {},
          "execution_count": 15
        }
      ]
    },
    {
      "cell_type": "code",
      "source": [
        "most_frequent_temp = max(set(temperatures), key = temperatures.count)\n",
        "most_frequent_temp"
      ],
      "metadata": {
        "colab": {
          "base_uri": "https://localhost:8080/"
        },
        "id": "KenPflMbHJG8",
        "outputId": "43c08415-8e83-483c-fe69-66eb3110cc70"
      },
      "execution_count": null,
      "outputs": [
        {
          "output_type": "execute_result",
          "data": {
            "text/plain": [
              "34"
            ]
          },
          "metadata": {},
          "execution_count": 14
        }
      ]
    },
    {
      "cell_type": "code",
      "source": [],
      "metadata": {
        "id": "JKvbEyuLOjO-"
      },
      "execution_count": null,
      "outputs": []
    },
    {
      "cell_type": "markdown",
      "metadata": {
        "id": "5qd8g8UUs8CM"
      },
      "source": [
        "## <u>Problem 2 </u>\n",
        "\n",
        "### Challenging the immutability of tuples\n",
        "\n",
        "You are given a list of tuples. You need to replace the last element of the last tuple"
      ]
    },
    {
      "cell_type": "code",
      "metadata": {
        "id": "FBJy9Sq_s8CN"
      },
      "source": [
        "# Input list of tuples\n",
        "\n",
        "list_of_tuples = [(10,20,30),(30,40,50),(50,60,70)]\n",
        "\n",
        "\n",
        "# Expected output : Replace the last element 70 with 100\n",
        "# output_list = [(10,20,30),(30,40,50),(50,60,100)]"
      ],
      "execution_count": null,
      "outputs": []
    },
    {
      "cell_type": "code",
      "metadata": {
        "id": "UNtYax1as8CR",
        "colab": {
          "base_uri": "https://localhost:8080/"
        },
        "outputId": "a29c1a4b-23cc-46cc-88b2-1ca9023e124a"
      },
      "source": [
        "# Your code here \n",
        "# my_list=set(list_of_tuples)\n",
        "# my_list.remove((50,60,70))\n",
        "# my_list.add((50,60,100))\n",
        "# tup=tuple(my_list)\n",
        "# print(my_list)\n",
        "\n",
        "list_of_tuples.pop()\n",
        "list_of_tuples.append((50,60,100))\n",
        "\n",
        "\n",
        "# Print the output list\n",
        "#print(my_list)\n",
        "print(list_of_tuples)"
      ],
      "execution_count": null,
      "outputs": [
        {
          "output_type": "stream",
          "name": "stdout",
          "text": [
            "[(10, 20, 30), (30, 40, 50), (50, 60, 100)]\n"
          ]
        }
      ]
    },
    {
      "cell_type": "markdown",
      "metadata": {
        "id": "ejRCi-vTs8CU"
      },
      "source": [
        "## <u> Problem 3 </u>\n",
        "\n",
        "Natural Language Processing or NLP is one of the most promising fields in Machine Learning. Most of the times in NLP we deal with the textual data (a bunch of strings). Sometimes when we are processing the text, it is a common practice to get rid of some set of stop words from our original text. By default stop words are very common words used in English language such as and, or, punctuations etc.\n",
        "\n",
        "In this exercise, you are provided with a default set of stop words and you need to add some extra set of custom words."
      ]
    },
    {
      "cell_type": "code",
      "metadata": {
        "id": "C5olNuDGs8CU",
        "colab": {
          "base_uri": "https://localhost:8080/"
        },
        "outputId": "3f2b8c20-a489-4809-de76-cba3818e4c86"
      },
      "source": [
        "# A sample sentence \n",
        "\n",
        "sentence = 'Hello, good morning folks! Today we will announce the half yearly performance results of the company. Due to the ongoing COVID-19 pandemic, our profits have declined by 60% as compared to the last half yearly results'\n",
        "\n",
        "# Print your sentence\n",
        "print(sentence)"
      ],
      "execution_count": null,
      "outputs": [
        {
          "output_type": "stream",
          "name": "stdout",
          "text": [
            "Hello, good morning folks! Today we will announce the half yearly performance results of the company. Due to the ongoing COVID-19 pandemic, our profits have declined by 60% as compared to the last half yearly results\n"
          ]
        }
      ]
    },
    {
      "cell_type": "code",
      "metadata": {
        "id": "B4afm8gCs8CY",
        "colab": {
          "base_uri": "https://localhost:8080/"
        },
        "outputId": "918f4fee-1c34-4da2-fb38-b8cfbf05c3c7"
      },
      "source": [
        "# Default set of stop words \n",
        "stop_words = {\"i\", \"me\", \"my\", \"myself\", \"we\", \"our\", \"ours\", \"ourselves\", \"you\", \"your\", \"yours\", \"yourself\", \n",
        "              \"yourselves\", \"he\", \"him\", \"his\", \"himself\", \"she\", \"her\", \"hers\", \"herself\", \"it\", \"its\", \"itself\",\n",
        "              \"they\", \"them\", \"their\", \"theirs\", \"themselves\", \"what\", \"which\", \"who\", \"whom\", \"this\", \"that\",\n",
        "              \"these\", \"those\", \"am\", \"is\", \"are\", \"was\", \"were\", \"be\", \"been\", \"being\", \"have\", \"has\", \"had\",\n",
        "              \"having\", \"do\", \"does\", \"did\", \"doing\", \"a\", \"an\", \"the\", \"and\", \"but\", \"if\", \"or\", \"because\",\n",
        "              \"as\", \"until\", \"while\", \"of\", \"at\", \"by\", \"for\", \"with\", \"about\", \"against\", \"between\", \"into\",\n",
        "              \"through\", \"during\", \"before\", \"after\", \"above\", \"below\", \"to\", \"from\", \"up\", \"down\", \"in\", \"out\", \n",
        "              \"on\", \"off\", \"over\", \"under\", \"again\", \"further\", \"then\", \"once\", \"here\", \"there\", \"when\", \"where\",\n",
        "              \"why\", \"how\", \"all\", \"any\", \"both\", \"each\", \"few\", \"more\", \"most\", \"other\", \"some\", \"such\", \"no\",\n",
        "              \"nor\", \"not\", \"only\", \"own\", \"same\", \"so\", \"than\", \"too\", \"very\", \"s\", \"t\", \"can\", \"will\", \"just\",\n",
        "              \"don\", \"should\", \"now\"}\n",
        "\n",
        "len(stop_words)"
      ],
      "execution_count": null,
      "outputs": [
        {
          "output_type": "execute_result",
          "data": {
            "text/plain": [
              "127"
            ]
          },
          "metadata": {},
          "execution_count": 27
        }
      ]
    },
    {
      "cell_type": "code",
      "metadata": {
        "id": "evgHHnRks8Cc",
        "colab": {
          "base_uri": "https://localhost:8080/"
        },
        "outputId": "c3d5d93c-5d7e-4bb3-dcbb-008622c56fec"
      },
      "source": [
        "# Update the set of stop words by adding the custom stop words\n",
        "custom_stop_words = [\"hello\",\"good\",\"morning\",\"half\",\"yearly\"]\n",
        "stop_words1=stop_words.copy()\n",
        "\n",
        "# Your code here\n",
        "stop_words1.update(custom_stop_words)\n",
        "\n",
        "# Print the updated stop words\n",
        "print(stop_words1)\n",
        "len(stop_words1)"
      ],
      "execution_count": null,
      "outputs": [
        {
          "output_type": "stream",
          "name": "stdout",
          "text": [
            "{'and', 'not', 's', 'few', 'who', 'him', 'below', 'why', 'up', 'that', 'my', 'where', 'our', 'should', 'yours', 'is', 'good', 'these', 'yourself', 'with', 'am', 'can', 'out', 'i', 'does', 'when', 'other', 'each', 'the', 'yearly', 'which', 'but', 'if', 'into', 'after', 'too', 'he', 'they', 'about', 'been', 'in', 'we', 'ours', 'very', 'himself', 'there', 'against', 'off', 'any', 'most', 'morning', 'during', 'being', 'on', 'has', 'ourselves', 'was', 'so', 'themselves', 'while', 'same', 'or', 'until', 'again', 'all', 'whom', 'how', 'this', 'own', 'above', 'those', 'will', 'be', 'to', 'your', 'myself', 'them', 'itself', 'under', 'nor', 'of', 'its', 'hers', 'between', 'her', 'their', 'by', 'further', 'for', 'then', 'over', 'down', 'are', 'were', 'through', 'no', 'once', 'here', 'such', 'don', 'had', 'you', 'she', 'me', 'only', 'an', 'herself', 'having', 'as', 'from', 'because', 'do', 'at', 'now', 'more', 'both', 'have', 'half', 'just', 'what', 'yourselves', 'did', 'a', 'than', 'hello', 'some', 'doing', 'before', 't', 'his', 'theirs', 'it'}\n"
          ]
        },
        {
          "output_type": "execute_result",
          "data": {
            "text/plain": [
              "132"
            ]
          },
          "metadata": {},
          "execution_count": 28
        }
      ]
    },
    {
      "cell_type": "code",
      "metadata": {
        "id": "1QbZrotrtIE3",
        "colab": {
          "base_uri": "https://localhost:8080/"
        },
        "outputId": "df8dca01-a65f-47f3-f025-256fe65255e0"
      },
      "source": [
        "# Do the same task another way. Keep in mind to use the original set of stop_words for this piece of code\n",
        "stop_words2=list(stop_words)\n",
        "custom_set= list(custom_stop_words)\n",
        "stop_words2.extend(custom_set)\n",
        "updated_stop_words=set(stop_words2)\n",
        "\n",
        "# Print the updated stop words\n",
        "\n",
        "print(updated_stop_words)\n",
        "len(updated_stop_words)"
      ],
      "execution_count": null,
      "outputs": [
        {
          "output_type": "stream",
          "name": "stdout",
          "text": [
            "{'only', 'they', 'where', 'same', 'your', 'a', 'by', 'that', 'which', 'up', 'the', 'were', 'those', 'then', 'into', 'is', 'such', 't', 'good', 'herself', 'or', 'should', 'yearly', 'very', 'me', 'her', 'to', 'before', 'themselves', 'them', 'our', 'own', 'in', 'this', 'does', 'because', 'at', 'below', 'here', 'just', 'half', 'how', 's', 'their', 'hers', 'being', 'on', 'hello', 'over', 'under', 'am', 'these', 'an', 'any', 'i', 'its', 'had', 'did', 'some', 'have', 'no', 'do', 'once', 'for', 'myself', 'off', 'with', 'been', 'yourselves', 'more', 'yours', 'yourself', 'each', 'theirs', 'it', 'who', 'not', 'so', 'was', 'both', 'further', 'few', 'while', 'nor', 'about', 'having', 'his', 'out', 'has', 'above', 'why', 'between', 'when', 'most', 'she', 'will', 'all', 'we', 'doing', 'morning', 'too', 'but', 'himself', 'what', 'from', 'can', 'you', 'there', 'until', 'are', 'than', 'if', 'against', 'of', 'be', 'again', 'other', 'he', 'after', 'down', 'ourselves', 'don', 'ours', 'itself', 'through', 'and', 'my', 'whom', 'during', 'as', 'now', 'him'}\n"
          ]
        },
        {
          "output_type": "execute_result",
          "data": {
            "text/plain": [
              "132"
            ]
          },
          "metadata": {},
          "execution_count": 195
        }
      ]
    },
    {
      "cell_type": "markdown",
      "metadata": {
        "id": "P1rOYC8Is8Cf"
      },
      "source": [
        "## <u>Problem 4</u>\n",
        "\n",
        " Write a Python script to check whether a given key already exists in a dictionary. If it does, drop that key from the dictionary. If it does not, add that key and corresponding value to the dictionary"
      ]
    },
    {
      "cell_type": "code",
      "metadata": {
        "id": "ySeGyCtCs8Cg"
      },
      "source": [
        "# Your dictionary\n",
        "employee_dict = {'Name':'Sanket','Skills':['Python','Machine Learning','Deep Learning'],'Band':6.0,\n",
        "                 'Promotion Year':[2016,2018,2020]}"
      ],
      "execution_count": null,
      "outputs": []
    },
    {
      "cell_type": "code",
      "source": [
        "# Check if the key 'Employee_ID' is present in the dictionary. Hint : use a boolean variable to store this value\n",
        "#employee_dict['Employee_ID']\n",
        "employee_dict.get('Employee_ID', bool==0 )\n",
        "# OR  employee_dict.pop('Employee_ID','Not Found')\n",
        "\n",
        "# If not present add this key to this dictionary and the corresponding value to be 4503233\n",
        "# employee_dict['Employee_ID']= 4503233   OR \n",
        "employee_dict.update({\"Employee_ID\" : 4503233 }) \n",
        "\n"
      ],
      "metadata": {
        "id": "KIaMbOMQ8IBy"
      },
      "execution_count": null,
      "outputs": []
    },
    {
      "cell_type": "code",
      "metadata": {
        "id": "ARPbZfY8s8Co",
        "colab": {
          "base_uri": "https://localhost:8080/"
        },
        "outputId": "48271742-7547-446d-9d1c-1668d8a897c9"
      },
      "source": [
        "# Check if the key 'Band' is present in the dictionary.\n",
        "employee_dict.get('Band', bool==0    )\n"
      ],
      "execution_count": null,
      "outputs": [
        {
          "output_type": "execute_result",
          "data": {
            "text/plain": [
              "6.0"
            ]
          },
          "metadata": {},
          "execution_count": 3
        }
      ]
    },
    {
      "cell_type": "code",
      "source": [
        "# If present, drop this key from the dictionary\n",
        "employee_dict.pop('Band')"
      ],
      "metadata": {
        "colab": {
          "base_uri": "https://localhost:8080/"
        },
        "id": "F6cg_cIrR_rQ",
        "outputId": "9a5ab01e-b282-460b-c765-92aeef2c82cb"
      },
      "execution_count": null,
      "outputs": [
        {
          "output_type": "execute_result",
          "data": {
            "text/plain": [
              "6.0"
            ]
          },
          "metadata": {},
          "execution_count": 4
        }
      ]
    },
    {
      "cell_type": "code",
      "metadata": {
        "id": "lUDbbyXmulzh",
        "colab": {
          "base_uri": "https://localhost:8080/"
        },
        "outputId": "cccc2960-bf3d-4cbc-c27a-f70ae73f1041"
      },
      "source": [
        "# Print the updated dictionary\n",
        "print(employee_dict)"
      ],
      "execution_count": null,
      "outputs": [
        {
          "output_type": "stream",
          "name": "stdout",
          "text": [
            "{'Name': 'Sanket', 'Skills': ['Python', 'Machine Learning', 'Deep Learning'], 'Promotion Year': [2016, 2018, 2020], 'Employee_ID': 4503233}\n"
          ]
        }
      ]
    },
    {
      "cell_type": "code",
      "source": [],
      "metadata": {
        "id": "Dmyhm6LS91Wy"
      },
      "execution_count": null,
      "outputs": []
    }
  ]
}